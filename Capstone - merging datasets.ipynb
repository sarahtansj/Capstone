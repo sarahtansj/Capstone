{
 "cells": [
  {
   "cell_type": "code",
   "execution_count": 1,
   "metadata": {},
   "outputs": [],
   "source": [
    "import pandas as pd\n",
    "import numpy as np\n",
    "import math\n",
    "import re\n",
    "from scipy.sparse import csr_matrix\n",
    "import matplotlib.pyplot as plt\n",
    "import seaborn as sns\n",
    "sns.set_style(\"darkgrid\")"
   ]
  },
  {
   "cell_type": "code",
   "execution_count": 2,
   "metadata": {},
   "outputs": [
    {
     "data": {
      "text/html": [
       "<div>\n",
       "<style scoped>\n",
       "    .dataframe tbody tr th:only-of-type {\n",
       "        vertical-align: middle;\n",
       "    }\n",
       "\n",
       "    .dataframe tbody tr th {\n",
       "        vertical-align: top;\n",
       "    }\n",
       "\n",
       "    .dataframe thead th {\n",
       "        text-align: right;\n",
       "    }\n",
       "</style>\n",
       "<table border=\"1\" class=\"dataframe\">\n",
       "  <thead>\n",
       "    <tr style=\"text-align: right;\">\n",
       "      <th></th>\n",
       "      <th>Year</th>\n",
       "      <th>Title</th>\n",
       "    </tr>\n",
       "    <tr>\n",
       "      <th>Movie_Id</th>\n",
       "      <th></th>\n",
       "      <th></th>\n",
       "    </tr>\n",
       "  </thead>\n",
       "  <tbody>\n",
       "    <tr>\n",
       "      <th>7478</th>\n",
       "      <td>1987.0</td>\n",
       "      <td>Tour of Duty: Season 1</td>\n",
       "    </tr>\n",
       "    <tr>\n",
       "      <th>7240</th>\n",
       "      <td>1987.0</td>\n",
       "      <td>Beverly Hills Cop II</td>\n",
       "    </tr>\n",
       "    <tr>\n",
       "      <th>7766</th>\n",
       "      <td>2002.0</td>\n",
       "      <td>Endangered Species</td>\n",
       "    </tr>\n",
       "    <tr>\n",
       "      <th>9491</th>\n",
       "      <td>1981.0</td>\n",
       "      <td>The Woman Next Door</td>\n",
       "    </tr>\n",
       "    <tr>\n",
       "      <th>5673</th>\n",
       "      <td>2004.0</td>\n",
       "      <td>Batman: Holy Batmania</td>\n",
       "    </tr>\n",
       "    <tr>\n",
       "      <th>13254</th>\n",
       "      <td>2000.0</td>\n",
       "      <td>Steal This Movie!</td>\n",
       "    </tr>\n",
       "    <tr>\n",
       "      <th>14617</th>\n",
       "      <td>1965.0</td>\n",
       "      <td>The Three Stooges Cartoons</td>\n",
       "    </tr>\n",
       "    <tr>\n",
       "      <th>679</th>\n",
       "      <td>1990.0</td>\n",
       "      <td>R.E.M.: Pop Screen</td>\n",
       "    </tr>\n",
       "    <tr>\n",
       "      <th>17600</th>\n",
       "      <td>2004.0</td>\n",
       "      <td>James' Journey to Jerusalem</td>\n",
       "    </tr>\n",
       "    <tr>\n",
       "      <th>4867</th>\n",
       "      <td>1986.0</td>\n",
       "      <td>The Karate Kid Part II</td>\n",
       "    </tr>\n",
       "  </tbody>\n",
       "</table>\n",
       "</div>"
      ],
      "text/plain": [
       "            Year                        Title\n",
       "Movie_Id                                     \n",
       "7478      1987.0       Tour of Duty: Season 1\n",
       "7240      1987.0         Beverly Hills Cop II\n",
       "7766      2002.0           Endangered Species\n",
       "9491      1981.0          The Woman Next Door\n",
       "5673      2004.0        Batman: Holy Batmania\n",
       "13254     2000.0            Steal This Movie!\n",
       "14617     1965.0   The Three Stooges Cartoons\n",
       "679       1990.0           R.E.M.: Pop Screen\n",
       "17600     2004.0  James' Journey to Jerusalem\n",
       "4867      1986.0       The Karate Kid Part II"
      ]
     },
     "execution_count": 2,
     "metadata": {},
     "output_type": "execute_result"
    }
   ],
   "source": [
    "movies = pd.read_csv('./datasets/movie_titles.csv', encoding='latin1', usecols = [0,1,2], names = ['Movie_Id','Year', 'Title']).set_index('Movie_Id')\n",
    "movies.sample(10)"
   ]
  },
  {
   "cell_type": "code",
   "execution_count": 3,
   "metadata": {},
   "outputs": [
    {
     "data": {
      "text/plain": [
       "(17770, 2)"
      ]
     },
     "execution_count": 3,
     "metadata": {},
     "output_type": "execute_result"
    }
   ],
   "source": [
    "movies.shape"
   ]
  },
  {
   "cell_type": "code",
   "execution_count": 4,
   "metadata": {},
   "outputs": [],
   "source": [
    "metadata = pd.read_csv('./movies_metadata.csv', low_memory=False)"
   ]
  },
  {
   "cell_type": "code",
   "execution_count": 5,
   "metadata": {},
   "outputs": [],
   "source": [
    "metadata = metadata.set_index('original_title').dropna()"
   ]
  },
  {
   "cell_type": "code",
   "execution_count": 6,
   "metadata": {},
   "outputs": [
    {
     "data": {
      "text/plain": [
       "Index(['adult', 'belongs_to_collection', 'budget', 'genres', 'homepage', 'id',\n",
       "       'imdb_id', 'original_language', 'overview', 'popularity', 'poster_path',\n",
       "       'production_companies', 'production_countries', 'release_date',\n",
       "       'revenue', 'runtime', 'spoken_languages', 'status', 'tagline', 'title',\n",
       "       'video', 'vote_average', 'vote_count'],\n",
       "      dtype='object')"
      ]
     },
     "execution_count": 6,
     "metadata": {},
     "output_type": "execute_result"
    }
   ],
   "source": [
    "metadata.columns"
   ]
  },
  {
   "cell_type": "code",
   "execution_count": 7,
   "metadata": {},
   "outputs": [
    {
     "data": {
      "text/plain": [
       "(693, 23)"
      ]
     },
     "execution_count": 7,
     "metadata": {},
     "output_type": "execute_result"
    }
   ],
   "source": [
    "metadata.shape"
   ]
  },
  {
   "cell_type": "code",
   "execution_count": 8,
   "metadata": {},
   "outputs": [],
   "source": [
    "metadata = metadata[['genres','imdb_id']]"
   ]
  },
  {
   "cell_type": "code",
   "execution_count": 9,
   "metadata": {},
   "outputs": [
    {
     "data": {
      "text/html": [
       "<div>\n",
       "<style scoped>\n",
       "    .dataframe tbody tr th:only-of-type {\n",
       "        vertical-align: middle;\n",
       "    }\n",
       "\n",
       "    .dataframe tbody tr th {\n",
       "        vertical-align: top;\n",
       "    }\n",
       "\n",
       "    .dataframe thead th {\n",
       "        text-align: right;\n",
       "    }\n",
       "</style>\n",
       "<table border=\"1\" class=\"dataframe\">\n",
       "  <thead>\n",
       "    <tr style=\"text-align: right;\">\n",
       "      <th></th>\n",
       "      <th>genres</th>\n",
       "      <th>imdb_id</th>\n",
       "    </tr>\n",
       "    <tr>\n",
       "      <th>original_title</th>\n",
       "      <th></th>\n",
       "      <th></th>\n",
       "    </tr>\n",
       "  </thead>\n",
       "  <tbody>\n",
       "    <tr>\n",
       "      <th>Born To Race</th>\n",
       "      <td>[{'id': 28, 'name': 'Action'}]</td>\n",
       "      <td>tt1781781</td>\n",
       "    </tr>\n",
       "    <tr>\n",
       "      <th>God's Not Dead</th>\n",
       "      <td>[{'id': 18, 'name': 'Drama'}]</td>\n",
       "      <td>tt2528814</td>\n",
       "    </tr>\n",
       "    <tr>\n",
       "      <th>ポケモン・ザ・ムービーXY 光輪の超魔神 フーパ</th>\n",
       "      <td>[{'id': 12, 'name': 'Adventure'}, {'id': 16, '...</td>\n",
       "      <td>tt4503906</td>\n",
       "    </tr>\n",
       "    <tr>\n",
       "      <th>Bad Ass</th>\n",
       "      <td>[{'id': 28, 'name': 'Action'}, {'id': 18, 'nam...</td>\n",
       "      <td>tt1928330</td>\n",
       "    </tr>\n",
       "    <tr>\n",
       "      <th>In the Name of the King: A Dungeon Siege Tale</th>\n",
       "      <td>[{'id': 12, 'name': 'Adventure'}, {'id': 14, '...</td>\n",
       "      <td>tt0460780</td>\n",
       "    </tr>\n",
       "  </tbody>\n",
       "</table>\n",
       "</div>"
      ],
      "text/plain": [
       "                                                                                          genres  \\\n",
       "original_title                                                                                     \n",
       "Born To Race                                                      [{'id': 28, 'name': 'Action'}]   \n",
       "God's Not Dead                                                     [{'id': 18, 'name': 'Drama'}]   \n",
       "ポケモン・ザ・ムービーXY 光輪の超魔神 フーパ                       [{'id': 12, 'name': 'Adventure'}, {'id': 16, '...   \n",
       "Bad Ass                                        [{'id': 28, 'name': 'Action'}, {'id': 18, 'nam...   \n",
       "In the Name of the King: A Dungeon Siege Tale  [{'id': 12, 'name': 'Adventure'}, {'id': 14, '...   \n",
       "\n",
       "                                                 imdb_id  \n",
       "original_title                                            \n",
       "Born To Race                                   tt1781781  \n",
       "God's Not Dead                                 tt2528814  \n",
       "ポケモン・ザ・ムービーXY 光輪の超魔神 フーパ                       tt4503906  \n",
       "Bad Ass                                        tt1928330  \n",
       "In the Name of the King: A Dungeon Siege Tale  tt0460780  "
      ]
     },
     "execution_count": 9,
     "metadata": {},
     "output_type": "execute_result"
    }
   ],
   "source": [
    "metadata.sample(5)"
   ]
  },
  {
   "cell_type": "code",
   "execution_count": 10,
   "metadata": {},
   "outputs": [],
   "source": [
    "# it seems that metadata is much smaller than the movies dataset. therefore, decide not to use, and get more data from imdb."
   ]
  },
  {
   "cell_type": "code",
   "execution_count": 11,
   "metadata": {},
   "outputs": [],
   "source": [
    "# but first. gonna build a recommender based on the data that was provided. to use as a baseline..."
   ]
  },
  {
   "cell_type": "code",
   "execution_count": 12,
   "metadata": {},
   "outputs": [],
   "source": [
    "# recommender got baseline? hmmmmmmmmmmmmmm"
   ]
  },
  {
   "cell_type": "code",
   "execution_count": 5,
   "metadata": {},
   "outputs": [],
   "source": [
    "combined = pd.read_csv('./Sample of ratings with movies.csv')"
   ]
  },
  {
   "cell_type": "code",
   "execution_count": 6,
   "metadata": {},
   "outputs": [
    {
     "data": {
      "text/html": [
       "<div>\n",
       "<style scoped>\n",
       "    .dataframe tbody tr th:only-of-type {\n",
       "        vertical-align: middle;\n",
       "    }\n",
       "\n",
       "    .dataframe tbody tr th {\n",
       "        vertical-align: top;\n",
       "    }\n",
       "\n",
       "    .dataframe thead th {\n",
       "        text-align: right;\n",
       "    }\n",
       "</style>\n",
       "<table border=\"1\" class=\"dataframe\">\n",
       "  <thead>\n",
       "    <tr style=\"text-align: right;\">\n",
       "      <th></th>\n",
       "      <th>Unnamed: 0</th>\n",
       "      <th>Cust_Id</th>\n",
       "      <th>Rating</th>\n",
       "      <th>Date</th>\n",
       "      <th>Movie_Id</th>\n",
       "      <th>Year</th>\n",
       "      <th>Title</th>\n",
       "    </tr>\n",
       "  </thead>\n",
       "  <tbody>\n",
       "    <tr>\n",
       "      <th>0</th>\n",
       "      <td>0</td>\n",
       "      <td>822109</td>\n",
       "      <td>5.0</td>\n",
       "      <td>2005-05-13</td>\n",
       "      <td>1</td>\n",
       "      <td>2003.0</td>\n",
       "      <td>Dinosaur Planet</td>\n",
       "    </tr>\n",
       "    <tr>\n",
       "      <th>1</th>\n",
       "      <td>1</td>\n",
       "      <td>372233</td>\n",
       "      <td>5.0</td>\n",
       "      <td>2005-11-23</td>\n",
       "      <td>1</td>\n",
       "      <td>2003.0</td>\n",
       "      <td>Dinosaur Planet</td>\n",
       "    </tr>\n",
       "    <tr>\n",
       "      <th>2</th>\n",
       "      <td>2</td>\n",
       "      <td>401047</td>\n",
       "      <td>4.0</td>\n",
       "      <td>2005-06-03</td>\n",
       "      <td>1</td>\n",
       "      <td>2003.0</td>\n",
       "      <td>Dinosaur Planet</td>\n",
       "    </tr>\n",
       "    <tr>\n",
       "      <th>3</th>\n",
       "      <td>3</td>\n",
       "      <td>793564</td>\n",
       "      <td>4.0</td>\n",
       "      <td>2004-04-19</td>\n",
       "      <td>1</td>\n",
       "      <td>2003.0</td>\n",
       "      <td>Dinosaur Planet</td>\n",
       "    </tr>\n",
       "    <tr>\n",
       "      <th>4</th>\n",
       "      <td>4</td>\n",
       "      <td>2477242</td>\n",
       "      <td>5.0</td>\n",
       "      <td>2005-01-30</td>\n",
       "      <td>1</td>\n",
       "      <td>2003.0</td>\n",
       "      <td>Dinosaur Planet</td>\n",
       "    </tr>\n",
       "  </tbody>\n",
       "</table>\n",
       "</div>"
      ],
      "text/plain": [
       "   Unnamed: 0  Cust_Id  Rating        Date  Movie_Id    Year            Title\n",
       "0           0   822109     5.0  2005-05-13         1  2003.0  Dinosaur Planet\n",
       "1           1   372233     5.0  2005-11-23         1  2003.0  Dinosaur Planet\n",
       "2           2   401047     4.0  2005-06-03         1  2003.0  Dinosaur Planet\n",
       "3           3   793564     4.0  2004-04-19         1  2003.0  Dinosaur Planet\n",
       "4           4  2477242     5.0  2005-01-30         1  2003.0  Dinosaur Planet"
      ]
     },
     "execution_count": 6,
     "metadata": {},
     "output_type": "execute_result"
    }
   ],
   "source": [
    "combined.head()"
   ]
  },
  {
   "cell_type": "code",
   "execution_count": 7,
   "metadata": {},
   "outputs": [],
   "source": [
    "combined.drop('Unnamed: 0', axis=1, inplace=True)"
   ]
  },
  {
   "cell_type": "code",
   "execution_count": 8,
   "metadata": {},
   "outputs": [
    {
     "data": {
      "text/html": [
       "<div>\n",
       "<style scoped>\n",
       "    .dataframe tbody tr th:only-of-type {\n",
       "        vertical-align: middle;\n",
       "    }\n",
       "\n",
       "    .dataframe tbody tr th {\n",
       "        vertical-align: top;\n",
       "    }\n",
       "\n",
       "    .dataframe thead th {\n",
       "        text-align: right;\n",
       "    }\n",
       "</style>\n",
       "<table border=\"1\" class=\"dataframe\">\n",
       "  <thead>\n",
       "    <tr style=\"text-align: right;\">\n",
       "      <th></th>\n",
       "      <th>Cust_Id</th>\n",
       "      <th>Rating</th>\n",
       "      <th>Date</th>\n",
       "      <th>Movie_Id</th>\n",
       "      <th>Year</th>\n",
       "      <th>Title</th>\n",
       "    </tr>\n",
       "  </thead>\n",
       "  <tbody>\n",
       "    <tr>\n",
       "      <th>819259</th>\n",
       "      <td>2579734</td>\n",
       "      <td>3.0</td>\n",
       "      <td>2005-05-16</td>\n",
       "      <td>2942</td>\n",
       "      <td>1999.0</td>\n",
       "      <td>Friends: Season 6</td>\n",
       "    </tr>\n",
       "    <tr>\n",
       "      <th>447240</th>\n",
       "      <td>1463201</td>\n",
       "      <td>4.0</td>\n",
       "      <td>2002-02-07</td>\n",
       "      <td>1659</td>\n",
       "      <td>1993.0</td>\n",
       "      <td>Grumpy Old Men</td>\n",
       "    </tr>\n",
       "    <tr>\n",
       "      <th>722617</th>\n",
       "      <td>1208766</td>\n",
       "      <td>3.0</td>\n",
       "      <td>2004-05-21</td>\n",
       "      <td>2580</td>\n",
       "      <td>2003.0</td>\n",
       "      <td>Freaky Friday</td>\n",
       "    </tr>\n",
       "    <tr>\n",
       "      <th>33726</th>\n",
       "      <td>133172</td>\n",
       "      <td>3.0</td>\n",
       "      <td>2004-06-14</td>\n",
       "      <td>175</td>\n",
       "      <td>1992.0</td>\n",
       "      <td>Reservoir Dogs</td>\n",
       "    </tr>\n",
       "    <tr>\n",
       "      <th>1170924</th>\n",
       "      <td>2183302</td>\n",
       "      <td>1.0</td>\n",
       "      <td>2004-05-26</td>\n",
       "      <td>4127</td>\n",
       "      <td>1994.0</td>\n",
       "      <td>The Flintstones</td>\n",
       "    </tr>\n",
       "  </tbody>\n",
       "</table>\n",
       "</div>"
      ],
      "text/plain": [
       "         Cust_Id  Rating        Date  Movie_Id    Year              Title\n",
       "819259   2579734     3.0  2005-05-16      2942  1999.0  Friends: Season 6\n",
       "447240   1463201     4.0  2002-02-07      1659  1993.0     Grumpy Old Men\n",
       "722617   1208766     3.0  2004-05-21      2580  2003.0      Freaky Friday\n",
       "33726     133172     3.0  2004-06-14       175  1992.0     Reservoir Dogs\n",
       "1170924  2183302     1.0  2004-05-26      4127  1994.0    The Flintstones"
      ]
     },
     "execution_count": 8,
     "metadata": {},
     "output_type": "execute_result"
    }
   ],
   "source": [
    "combined.sample(5)"
   ]
  },
  {
   "cell_type": "code",
   "execution_count": 9,
   "metadata": {},
   "outputs": [
    {
     "data": {
      "text/plain": [
       "(1285340, 6)"
      ]
     },
     "execution_count": 9,
     "metadata": {},
     "output_type": "execute_result"
    }
   ],
   "source": [
    "combined.shape"
   ]
  },
  {
   "cell_type": "code",
   "execution_count": 10,
   "metadata": {},
   "outputs": [
    {
     "data": {
      "text/plain": [
       "Cust_Id       int64\n",
       "Rating      float64\n",
       "Date         object\n",
       "Movie_Id      int64\n",
       "Year        float64\n",
       "Title        object\n",
       "dtype: object"
      ]
     },
     "execution_count": 10,
     "metadata": {},
     "output_type": "execute_result"
    }
   ],
   "source": [
    "combined.dtypes"
   ]
  },
  {
   "cell_type": "code",
   "execution_count": 11,
   "metadata": {},
   "outputs": [
    {
     "name": "stderr",
     "output_type": "stream",
     "text": [
      "/anaconda3/lib/python3.6/site-packages/IPython/core/interactiveshell.py:2785: DtypeWarning: Columns (5) have mixed types. Specify dtype option on import or set low_memory=False.\n",
      "  interactivity=interactivity, compiler=compiler, result=result)\n"
     ]
    }
   ],
   "source": [
    "imdb=pd.read_csv('./title.basics.tsv', sep='\\t')"
   ]
  },
  {
   "cell_type": "code",
   "execution_count": 12,
   "metadata": {},
   "outputs": [
    {
     "data": {
      "text/plain": [
       "(5355308, 9)"
      ]
     },
     "execution_count": 12,
     "metadata": {},
     "output_type": "execute_result"
    }
   ],
   "source": [
    "imdb.shape"
   ]
  },
  {
   "cell_type": "code",
   "execution_count": 13,
   "metadata": {},
   "outputs": [
    {
     "data": {
      "text/html": [
       "<div>\n",
       "<style scoped>\n",
       "    .dataframe tbody tr th:only-of-type {\n",
       "        vertical-align: middle;\n",
       "    }\n",
       "\n",
       "    .dataframe tbody tr th {\n",
       "        vertical-align: top;\n",
       "    }\n",
       "\n",
       "    .dataframe thead th {\n",
       "        text-align: right;\n",
       "    }\n",
       "</style>\n",
       "<table border=\"1\" class=\"dataframe\">\n",
       "  <thead>\n",
       "    <tr style=\"text-align: right;\">\n",
       "      <th></th>\n",
       "      <th>tconst</th>\n",
       "      <th>titleType</th>\n",
       "      <th>primaryTitle</th>\n",
       "      <th>originalTitle</th>\n",
       "      <th>isAdult</th>\n",
       "      <th>startYear</th>\n",
       "      <th>endYear</th>\n",
       "      <th>runtimeMinutes</th>\n",
       "      <th>genres</th>\n",
       "    </tr>\n",
       "  </thead>\n",
       "  <tbody>\n",
       "    <tr>\n",
       "      <th>4738537</th>\n",
       "      <td>tt7866974</td>\n",
       "      <td>tvSeries</td>\n",
       "      <td>Nej D'Lux</td>\n",
       "      <td>Nej D'Lux</td>\n",
       "      <td>0</td>\n",
       "      <td>2017</td>\n",
       "      <td>\\N</td>\n",
       "      <td>15</td>\n",
       "      <td>Comedy,Reality-TV</td>\n",
       "    </tr>\n",
       "    <tr>\n",
       "      <th>1535400</th>\n",
       "      <td>tt1589253</td>\n",
       "      <td>tvEpisode</td>\n",
       "      <td>Episode dated 22 January 2010</td>\n",
       "      <td>Episode dated 22 January 2010</td>\n",
       "      <td>0</td>\n",
       "      <td>2010</td>\n",
       "      <td>\\N</td>\n",
       "      <td>\\N</td>\n",
       "      <td>Sport,Talk-Show</td>\n",
       "    </tr>\n",
       "    <tr>\n",
       "      <th>4877481</th>\n",
       "      <td>tt8163720</td>\n",
       "      <td>tvEpisode</td>\n",
       "      <td>Episode #1.17</td>\n",
       "      <td>Episode #1.17</td>\n",
       "      <td>0</td>\n",
       "      <td>1975</td>\n",
       "      <td>\\N</td>\n",
       "      <td>\\N</td>\n",
       "      <td>Drama</td>\n",
       "    </tr>\n",
       "    <tr>\n",
       "      <th>1508214</th>\n",
       "      <td>tt1561227</td>\n",
       "      <td>tvEpisode</td>\n",
       "      <td>Episode dated 7 January 1987</td>\n",
       "      <td>Episode dated 7 January 1987</td>\n",
       "      <td>0</td>\n",
       "      <td>1987</td>\n",
       "      <td>\\N</td>\n",
       "      <td>\\N</td>\n",
       "      <td>Game-Show</td>\n",
       "    </tr>\n",
       "    <tr>\n",
       "      <th>2457070</th>\n",
       "      <td>tt2788796</td>\n",
       "      <td>short</td>\n",
       "      <td>At Dawn They Sleep</td>\n",
       "      <td>At Dawn They Sleep</td>\n",
       "      <td>0</td>\n",
       "      <td>2013</td>\n",
       "      <td>\\N</td>\n",
       "      <td>18</td>\n",
       "      <td>Action,Drama,Short</td>\n",
       "    </tr>\n",
       "    <tr>\n",
       "      <th>2188780</th>\n",
       "      <td>tt2280694</td>\n",
       "      <td>tvEpisode</td>\n",
       "      <td>Radio Wars</td>\n",
       "      <td>Radio Wars</td>\n",
       "      <td>0</td>\n",
       "      <td>1995</td>\n",
       "      <td>\\N</td>\n",
       "      <td>\\N</td>\n",
       "      <td>\\N</td>\n",
       "    </tr>\n",
       "    <tr>\n",
       "      <th>3900229</th>\n",
       "      <td>tt6055850</td>\n",
       "      <td>tvMiniSeries</td>\n",
       "      <td>A Day in the Life Of</td>\n",
       "      <td>A Day in the Life Of</td>\n",
       "      <td>0</td>\n",
       "      <td>2017</td>\n",
       "      <td>\\N</td>\n",
       "      <td>\\N</td>\n",
       "      <td>Comedy</td>\n",
       "    </tr>\n",
       "    <tr>\n",
       "      <th>1343587</th>\n",
       "      <td>tt1390601</td>\n",
       "      <td>tvEpisode</td>\n",
       "      <td>Chuck Versus the First Kill</td>\n",
       "      <td>Chuck Versus the First Kill</td>\n",
       "      <td>0</td>\n",
       "      <td>2009</td>\n",
       "      <td>\\N</td>\n",
       "      <td>43</td>\n",
       "      <td>Action,Comedy,Drama</td>\n",
       "    </tr>\n",
       "    <tr>\n",
       "      <th>244524</th>\n",
       "      <td>tt0254860</td>\n",
       "      <td>short</td>\n",
       "      <td>Vom Schwein</td>\n",
       "      <td>Vom Schwein</td>\n",
       "      <td>0</td>\n",
       "      <td>1997</td>\n",
       "      <td>\\N</td>\n",
       "      <td>10</td>\n",
       "      <td>Documentary,Short</td>\n",
       "    </tr>\n",
       "    <tr>\n",
       "      <th>4331130</th>\n",
       "      <td>tt6999634</td>\n",
       "      <td>tvEpisode</td>\n",
       "      <td>The Great Dongumi Scout Battle, the Top Secret...</td>\n",
       "      <td>The Great Dongumi Scout Battle, the Top Secret...</td>\n",
       "      <td>0</td>\n",
       "      <td>1987</td>\n",
       "      <td>\\N</td>\n",
       "      <td>\\N</td>\n",
       "      <td>Animation,Comedy</td>\n",
       "    </tr>\n",
       "  </tbody>\n",
       "</table>\n",
       "</div>"
      ],
      "text/plain": [
       "            tconst     titleType  \\\n",
       "4738537  tt7866974      tvSeries   \n",
       "1535400  tt1589253     tvEpisode   \n",
       "4877481  tt8163720     tvEpisode   \n",
       "1508214  tt1561227     tvEpisode   \n",
       "2457070  tt2788796         short   \n",
       "2188780  tt2280694     tvEpisode   \n",
       "3900229  tt6055850  tvMiniSeries   \n",
       "1343587  tt1390601     tvEpisode   \n",
       "244524   tt0254860         short   \n",
       "4331130  tt6999634     tvEpisode   \n",
       "\n",
       "                                              primaryTitle  \\\n",
       "4738537                                          Nej D'Lux   \n",
       "1535400                      Episode dated 22 January 2010   \n",
       "4877481                                      Episode #1.17   \n",
       "1508214                       Episode dated 7 January 1987   \n",
       "2457070                                 At Dawn They Sleep   \n",
       "2188780                                         Radio Wars   \n",
       "3900229                               A Day in the Life Of   \n",
       "1343587                        Chuck Versus the First Kill   \n",
       "244524                                         Vom Schwein   \n",
       "4331130  The Great Dongumi Scout Battle, the Top Secret...   \n",
       "\n",
       "                                             originalTitle  isAdult startYear  \\\n",
       "4738537                                          Nej D'Lux        0      2017   \n",
       "1535400                      Episode dated 22 January 2010        0      2010   \n",
       "4877481                                      Episode #1.17        0      1975   \n",
       "1508214                       Episode dated 7 January 1987        0      1987   \n",
       "2457070                                 At Dawn They Sleep        0      2013   \n",
       "2188780                                         Radio Wars        0      1995   \n",
       "3900229                               A Day in the Life Of        0      2017   \n",
       "1343587                        Chuck Versus the First Kill        0      2009   \n",
       "244524                                         Vom Schwein        0      1997   \n",
       "4331130  The Great Dongumi Scout Battle, the Top Secret...        0      1987   \n",
       "\n",
       "        endYear runtimeMinutes               genres  \n",
       "4738537      \\N             15    Comedy,Reality-TV  \n",
       "1535400      \\N             \\N      Sport,Talk-Show  \n",
       "4877481      \\N             \\N                Drama  \n",
       "1508214      \\N             \\N            Game-Show  \n",
       "2457070      \\N             18   Action,Drama,Short  \n",
       "2188780      \\N             \\N                   \\N  \n",
       "3900229      \\N             \\N               Comedy  \n",
       "1343587      \\N             43  Action,Comedy,Drama  \n",
       "244524       \\N             10    Documentary,Short  \n",
       "4331130      \\N             \\N     Animation,Comedy  "
      ]
     },
     "execution_count": 13,
     "metadata": {},
     "output_type": "execute_result"
    }
   ],
   "source": [
    "imdb.sample(10)"
   ]
  },
  {
   "cell_type": "code",
   "execution_count": 14,
   "metadata": {},
   "outputs": [],
   "source": [
    "# check the two title columns"
   ]
  },
  {
   "cell_type": "code",
   "execution_count": 15,
   "metadata": {
    "scrolled": false
   },
   "outputs": [
    {
     "data": {
      "text/html": [
       "<div>\n",
       "<style scoped>\n",
       "    .dataframe tbody tr th:only-of-type {\n",
       "        vertical-align: middle;\n",
       "    }\n",
       "\n",
       "    .dataframe tbody tr th {\n",
       "        vertical-align: top;\n",
       "    }\n",
       "\n",
       "    .dataframe thead th {\n",
       "        text-align: right;\n",
       "    }\n",
       "</style>\n",
       "<table border=\"1\" class=\"dataframe\">\n",
       "  <thead>\n",
       "    <tr style=\"text-align: right;\">\n",
       "      <th></th>\n",
       "      <th>tconst</th>\n",
       "      <th>titleType</th>\n",
       "      <th>primaryTitle</th>\n",
       "      <th>originalTitle</th>\n",
       "      <th>isAdult</th>\n",
       "      <th>startYear</th>\n",
       "      <th>endYear</th>\n",
       "      <th>runtimeMinutes</th>\n",
       "      <th>genres</th>\n",
       "    </tr>\n",
       "  </thead>\n",
       "  <tbody>\n",
       "    <tr>\n",
       "      <th>9</th>\n",
       "      <td>tt0000010</td>\n",
       "      <td>short</td>\n",
       "      <td>Employees Leaving the Lumière Factory</td>\n",
       "      <td>La sortie de l'usine Lumière à Lyon</td>\n",
       "      <td>0</td>\n",
       "      <td>1895</td>\n",
       "      <td>\\N</td>\n",
       "      <td>1</td>\n",
       "      <td>Documentary,Short</td>\n",
       "    </tr>\n",
       "    <tr>\n",
       "      <th>11</th>\n",
       "      <td>tt0000012</td>\n",
       "      <td>short</td>\n",
       "      <td>The Arrival of a Train</td>\n",
       "      <td>L'arrivée d'un train à La Ciotat</td>\n",
       "      <td>0</td>\n",
       "      <td>1896</td>\n",
       "      <td>\\N</td>\n",
       "      <td>1</td>\n",
       "      <td>Documentary,Short</td>\n",
       "    </tr>\n",
       "    <tr>\n",
       "      <th>12</th>\n",
       "      <td>tt0000013</td>\n",
       "      <td>short</td>\n",
       "      <td>The Photographical Congress Arrives in Lyon</td>\n",
       "      <td>Neuville-sur-Saône: Débarquement du congrès de...</td>\n",
       "      <td>0</td>\n",
       "      <td>1895</td>\n",
       "      <td>\\N</td>\n",
       "      <td>1</td>\n",
       "      <td>Documentary,Short</td>\n",
       "    </tr>\n",
       "    <tr>\n",
       "      <th>13</th>\n",
       "      <td>tt0000014</td>\n",
       "      <td>short</td>\n",
       "      <td>Tables Turned on the Gardener</td>\n",
       "      <td>L'arroseur arrosé</td>\n",
       "      <td>0</td>\n",
       "      <td>1895</td>\n",
       "      <td>\\N</td>\n",
       "      <td>1</td>\n",
       "      <td>Comedy,Short</td>\n",
       "    </tr>\n",
       "    <tr>\n",
       "      <th>20</th>\n",
       "      <td>tt0000022</td>\n",
       "      <td>short</td>\n",
       "      <td>Blacksmith Scene</td>\n",
       "      <td>Les forgerons</td>\n",
       "      <td>0</td>\n",
       "      <td>1895</td>\n",
       "      <td>\\N</td>\n",
       "      <td>1</td>\n",
       "      <td>Documentary,Short</td>\n",
       "    </tr>\n",
       "  </tbody>\n",
       "</table>\n",
       "</div>"
      ],
      "text/plain": [
       "       tconst titleType                                 primaryTitle  \\\n",
       "9   tt0000010     short        Employees Leaving the Lumière Factory   \n",
       "11  tt0000012     short                       The Arrival of a Train   \n",
       "12  tt0000013     short  The Photographical Congress Arrives in Lyon   \n",
       "13  tt0000014     short                Tables Turned on the Gardener   \n",
       "20  tt0000022     short                             Blacksmith Scene   \n",
       "\n",
       "                                        originalTitle  isAdult startYear  \\\n",
       "9                 La sortie de l'usine Lumière à Lyon        0      1895   \n",
       "11                   L'arrivée d'un train à La Ciotat        0      1896   \n",
       "12  Neuville-sur-Saône: Débarquement du congrès de...        0      1895   \n",
       "13                                  L'arroseur arrosé        0      1895   \n",
       "20                                      Les forgerons        0      1895   \n",
       "\n",
       "   endYear runtimeMinutes             genres  \n",
       "9       \\N              1  Documentary,Short  \n",
       "11      \\N              1  Documentary,Short  \n",
       "12      \\N              1  Documentary,Short  \n",
       "13      \\N              1       Comedy,Short  \n",
       "20      \\N              1  Documentary,Short  "
      ]
     },
     "execution_count": 15,
     "metadata": {},
     "output_type": "execute_result"
    }
   ],
   "source": [
    "imdb.loc[~(imdb['primaryTitle'] == imdb['originalTitle'])].head()\n",
    "# difference is due to translations"
   ]
  },
  {
   "cell_type": "code",
   "execution_count": 16,
   "metadata": {},
   "outputs": [],
   "source": [
    "# did a quick search on imdb, imdb records as the primary title, netflix also recognises the english title. therefore, to drop the original title column"
   ]
  },
  {
   "cell_type": "code",
   "execution_count": 17,
   "metadata": {},
   "outputs": [],
   "source": [
    "imdb.drop(['originalTitle', 'endYear'], axis=1, inplace=True)"
   ]
  },
  {
   "cell_type": "code",
   "execution_count": 18,
   "metadata": {},
   "outputs": [],
   "source": [
    "imdb.rename(columns={'primaryTitle': 'Title', 'startYear': 'Year'}, inplace=True)\n"
   ]
  },
  {
   "cell_type": "code",
   "execution_count": 19,
   "metadata": {},
   "outputs": [
    {
     "data": {
      "text/html": [
       "<div>\n",
       "<style scoped>\n",
       "    .dataframe tbody tr th:only-of-type {\n",
       "        vertical-align: middle;\n",
       "    }\n",
       "\n",
       "    .dataframe tbody tr th {\n",
       "        vertical-align: top;\n",
       "    }\n",
       "\n",
       "    .dataframe thead th {\n",
       "        text-align: right;\n",
       "    }\n",
       "</style>\n",
       "<table border=\"1\" class=\"dataframe\">\n",
       "  <thead>\n",
       "    <tr style=\"text-align: right;\">\n",
       "      <th></th>\n",
       "      <th>tconst</th>\n",
       "      <th>titleType</th>\n",
       "      <th>Title</th>\n",
       "      <th>isAdult</th>\n",
       "      <th>Year</th>\n",
       "      <th>runtimeMinutes</th>\n",
       "      <th>genres</th>\n",
       "    </tr>\n",
       "  </thead>\n",
       "  <tbody>\n",
       "    <tr>\n",
       "      <th>4393637</th>\n",
       "      <td>tt7132392</td>\n",
       "      <td>tvEpisode</td>\n",
       "      <td>Episode #1.110</td>\n",
       "      <td>0</td>\n",
       "      <td>2008</td>\n",
       "      <td>\\N</td>\n",
       "      <td>Comedy</td>\n",
       "    </tr>\n",
       "    <tr>\n",
       "      <th>4235705</th>\n",
       "      <td>tt6794884</td>\n",
       "      <td>tvEpisode</td>\n",
       "      <td>Episode #1.2</td>\n",
       "      <td>0</td>\n",
       "      <td>2017</td>\n",
       "      <td>\\N</td>\n",
       "      <td>Comedy</td>\n",
       "    </tr>\n",
       "    <tr>\n",
       "      <th>4111459</th>\n",
       "      <td>tt6522660</td>\n",
       "      <td>tvMovie</td>\n",
       "      <td>Filming My Father: In Life and Death</td>\n",
       "      <td>0</td>\n",
       "      <td>2015</td>\n",
       "      <td>\\N</td>\n",
       "      <td>Documentary</td>\n",
       "    </tr>\n",
       "    <tr>\n",
       "      <th>2796379</th>\n",
       "      <td>tt3583378</td>\n",
       "      <td>tvEpisode</td>\n",
       "      <td>Tease</td>\n",
       "      <td>0</td>\n",
       "      <td>2013</td>\n",
       "      <td>\\N</td>\n",
       "      <td>Comedy</td>\n",
       "    </tr>\n",
       "    <tr>\n",
       "      <th>3611144</th>\n",
       "      <td>tt5410956</td>\n",
       "      <td>tvEpisode</td>\n",
       "      <td>Episode #1.5777</td>\n",
       "      <td>0</td>\n",
       "      <td>\\N</td>\n",
       "      <td>\\N</td>\n",
       "      <td>News</td>\n",
       "    </tr>\n",
       "  </tbody>\n",
       "</table>\n",
       "</div>"
      ],
      "text/plain": [
       "            tconst  titleType                                 Title  isAdult  \\\n",
       "4393637  tt7132392  tvEpisode                        Episode #1.110        0   \n",
       "4235705  tt6794884  tvEpisode                          Episode #1.2        0   \n",
       "4111459  tt6522660    tvMovie  Filming My Father: In Life and Death        0   \n",
       "2796379  tt3583378  tvEpisode                                 Tease        0   \n",
       "3611144  tt5410956  tvEpisode                       Episode #1.5777        0   \n",
       "\n",
       "         Year runtimeMinutes       genres  \n",
       "4393637  2008             \\N       Comedy  \n",
       "4235705  2017             \\N       Comedy  \n",
       "4111459  2015             \\N  Documentary  \n",
       "2796379  2013             \\N       Comedy  \n",
       "3611144    \\N             \\N         News  "
      ]
     },
     "execution_count": 19,
     "metadata": {},
     "output_type": "execute_result"
    }
   ],
   "source": [
    "imdb.sample(5)"
   ]
  },
  {
   "cell_type": "code",
   "execution_count": 20,
   "metadata": {},
   "outputs": [
    {
     "data": {
      "text/plain": [
       "tconst            0\n",
       "titleType         0\n",
       "Title             6\n",
       "isAdult           0\n",
       "Year              0\n",
       "runtimeMinutes    0\n",
       "genres            2\n",
       "dtype: int64"
      ]
     },
     "execution_count": 20,
     "metadata": {},
     "output_type": "execute_result"
    }
   ],
   "source": [
    "imdb.isnull().sum()"
   ]
  },
  {
   "cell_type": "code",
   "execution_count": 21,
   "metadata": {},
   "outputs": [
    {
     "data": {
      "text/plain": [
       "tconst            object\n",
       "titleType         object\n",
       "Title             object\n",
       "isAdult            int64\n",
       "Year              object\n",
       "runtimeMinutes    object\n",
       "genres            object\n",
       "dtype: object"
      ]
     },
     "execution_count": 21,
     "metadata": {},
     "output_type": "execute_result"
    }
   ],
   "source": [
    "imdb.dtypes"
   ]
  },
  {
   "cell_type": "code",
   "execution_count": 22,
   "metadata": {},
   "outputs": [
    {
     "data": {
      "text/plain": [
       "\\N      297353\n",
       "2017    292278\n",
       "2016    290845\n",
       "2015    281476\n",
       "2014    271792\n",
       "Name: Year, dtype: int64"
      ]
     },
     "execution_count": 22,
     "metadata": {},
     "output_type": "execute_result"
    }
   ],
   "source": [
    "imdb['Year'].value_counts().head()"
   ]
  },
  {
   "cell_type": "code",
   "execution_count": 23,
   "metadata": {},
   "outputs": [],
   "source": [
    "imdb = imdb.replace(r'\\\\N', np.nan, regex=True)"
   ]
  },
  {
   "cell_type": "code",
   "execution_count": 36,
   "metadata": {},
   "outputs": [],
   "source": [
    "# eg. hamlet is a movie and a short. should filter to get movie data only??? not sure yet...\n",
    "#imdb[imdb['Title'].duplicated()]"
   ]
  },
  {
   "cell_type": "markdown",
   "metadata": {},
   "source": [
    "# ask edo this"
   ]
  },
  {
   "cell_type": "code",
   "execution_count": 24,
   "metadata": {},
   "outputs": [
    {
     "data": {
      "text/plain": [
       "tvEpisode       3643987\n",
       "short            648868\n",
       "movie            501024\n",
       "video            213111\n",
       "tvSeries         153399\n",
       "tvMovie          126784\n",
       "tvMiniSeries      24489\n",
       "videoGame         22128\n",
       "tvSpecial         12795\n",
       "tvShort            8723\n",
       "Name: titleType, dtype: int64"
      ]
     },
     "execution_count": 24,
     "metadata": {},
     "output_type": "execute_result"
    }
   ],
   "source": [
    "imdb['titleType'].value_counts()"
   ]
  },
  {
   "cell_type": "code",
   "execution_count": 25,
   "metadata": {},
   "outputs": [
    {
     "data": {
      "text/plain": [
       "0"
      ]
     },
     "execution_count": 25,
     "metadata": {},
     "output_type": "execute_result"
    }
   ],
   "source": [
    "imdb.duplicated().sum()"
   ]
  },
  {
   "cell_type": "code",
   "execution_count": 35,
   "metadata": {},
   "outputs": [
    {
     "data": {
      "text/html": [
       "<div>\n",
       "<style scoped>\n",
       "    .dataframe tbody tr th:only-of-type {\n",
       "        vertical-align: middle;\n",
       "    }\n",
       "\n",
       "    .dataframe tbody tr th {\n",
       "        vertical-align: top;\n",
       "    }\n",
       "\n",
       "    .dataframe thead th {\n",
       "        text-align: right;\n",
       "    }\n",
       "</style>\n",
       "<table border=\"1\" class=\"dataframe\">\n",
       "  <thead>\n",
       "    <tr style=\"text-align: right;\">\n",
       "      <th></th>\n",
       "      <th>tconst</th>\n",
       "      <th>titleType</th>\n",
       "      <th>Title</th>\n",
       "      <th>isAdult</th>\n",
       "      <th>Year</th>\n",
       "      <th>runtimeMinutes</th>\n",
       "      <th>genres</th>\n",
       "    </tr>\n",
       "  </thead>\n",
       "  <tbody>\n",
       "    <tr>\n",
       "      <th>626</th>\n",
       "      <td>tt0000630</td>\n",
       "      <td>movie</td>\n",
       "      <td>Hamlet</td>\n",
       "      <td>0</td>\n",
       "      <td>1908</td>\n",
       "      <td>NaN</td>\n",
       "      <td>Drama</td>\n",
       "    </tr>\n",
       "    <tr>\n",
       "      <th>627</th>\n",
       "      <td>tt0000631</td>\n",
       "      <td>short</td>\n",
       "      <td>Hamlet</td>\n",
       "      <td>0</td>\n",
       "      <td>1908</td>\n",
       "      <td>NaN</td>\n",
       "      <td>Drama,Short</td>\n",
       "    </tr>\n",
       "    <tr>\n",
       "      <th>1229</th>\n",
       "      <td>tt0001240</td>\n",
       "      <td>movie</td>\n",
       "      <td>Hamlet</td>\n",
       "      <td>0</td>\n",
       "      <td>1911</td>\n",
       "      <td>NaN</td>\n",
       "      <td>Drama</td>\n",
       "    </tr>\n",
       "    <tr>\n",
       "      <th>1230</th>\n",
       "      <td>tt0001241</td>\n",
       "      <td>short</td>\n",
       "      <td>Hamlet</td>\n",
       "      <td>0</td>\n",
       "      <td>1910</td>\n",
       "      <td>20</td>\n",
       "      <td>Drama,Short</td>\n",
       "    </tr>\n",
       "    <tr>\n",
       "      <th>1231</th>\n",
       "      <td>tt0001242</td>\n",
       "      <td>short</td>\n",
       "      <td>Hamlet</td>\n",
       "      <td>0</td>\n",
       "      <td>1908</td>\n",
       "      <td>NaN</td>\n",
       "      <td>Drama,Short</td>\n",
       "    </tr>\n",
       "  </tbody>\n",
       "</table>\n",
       "</div>"
      ],
      "text/plain": [
       "         tconst titleType   Title  isAdult  Year runtimeMinutes       genres\n",
       "626   tt0000630     movie  Hamlet        0  1908            NaN        Drama\n",
       "627   tt0000631     short  Hamlet        0  1908            NaN  Drama,Short\n",
       "1229  tt0001240     movie  Hamlet        0  1911            NaN        Drama\n",
       "1230  tt0001241     short  Hamlet        0  1910             20  Drama,Short\n",
       "1231  tt0001242     short  Hamlet        0  1908            NaN  Drama,Short"
      ]
     },
     "execution_count": 35,
     "metadata": {},
     "output_type": "execute_result"
    }
   ],
   "source": [
    "imdb[imdb['Title'] == 'Hamlet'].head()"
   ]
  },
  {
   "cell_type": "code",
   "execution_count": 26,
   "metadata": {},
   "outputs": [],
   "source": [
    "# just gonna take movies\n",
    "imdb = imdb[imdb['titleType'] == 'movie']"
   ]
  },
  {
   "cell_type": "code",
   "execution_count": 27,
   "metadata": {},
   "outputs": [],
   "source": [
    "imdb['Year'] = imdb['Year'].astype('float64')"
   ]
  },
  {
   "cell_type": "code",
   "execution_count": 28,
   "metadata": {},
   "outputs": [],
   "source": [
    "joined = pd.merge(combined, imdb,  how='left', on=['Year','Title'], left_index=True)"
   ]
  },
  {
   "cell_type": "code",
   "execution_count": 29,
   "metadata": {},
   "outputs": [
    {
     "data": {
      "text/html": [
       "<div>\n",
       "<style scoped>\n",
       "    .dataframe tbody tr th:only-of-type {\n",
       "        vertical-align: middle;\n",
       "    }\n",
       "\n",
       "    .dataframe tbody tr th {\n",
       "        vertical-align: top;\n",
       "    }\n",
       "\n",
       "    .dataframe thead th {\n",
       "        text-align: right;\n",
       "    }\n",
       "</style>\n",
       "<table border=\"1\" class=\"dataframe\">\n",
       "  <thead>\n",
       "    <tr style=\"text-align: right;\">\n",
       "      <th></th>\n",
       "      <th>Cust_Id</th>\n",
       "      <th>Rating</th>\n",
       "      <th>Date</th>\n",
       "      <th>Movie_Id</th>\n",
       "      <th>Year</th>\n",
       "      <th>Title</th>\n",
       "      <th>tconst</th>\n",
       "      <th>titleType</th>\n",
       "      <th>isAdult</th>\n",
       "      <th>runtimeMinutes</th>\n",
       "      <th>genres</th>\n",
       "    </tr>\n",
       "  </thead>\n",
       "  <tbody>\n",
       "    <tr>\n",
       "      <th>110157</th>\n",
       "      <td>2217043</td>\n",
       "      <td>5.0</td>\n",
       "      <td>2004-05-01</td>\n",
       "      <td>2782</td>\n",
       "      <td>1995.0</td>\n",
       "      <td>Braveheart</td>\n",
       "      <td>tt0112573</td>\n",
       "      <td>movie</td>\n",
       "      <td>0.0</td>\n",
       "      <td>178</td>\n",
       "      <td>Biography,Drama,History</td>\n",
       "    </tr>\n",
       "    <tr>\n",
       "      <th>5355305</th>\n",
       "      <td>14833</td>\n",
       "      <td>2.0</td>\n",
       "      <td>2005-06-08</td>\n",
       "      <td>1067</td>\n",
       "      <td>1956.0</td>\n",
       "      <td>Earth vs. The Flying Saucers</td>\n",
       "      <td>NaN</td>\n",
       "      <td>NaN</td>\n",
       "      <td>NaN</td>\n",
       "      <td>NaN</td>\n",
       "      <td>NaN</td>\n",
       "    </tr>\n",
       "    <tr>\n",
       "      <th>5355305</th>\n",
       "      <td>2122411</td>\n",
       "      <td>5.0</td>\n",
       "      <td>2005-02-06</td>\n",
       "      <td>2178</td>\n",
       "      <td>1998.0</td>\n",
       "      <td>Lock</td>\n",
       "      <td>NaN</td>\n",
       "      <td>NaN</td>\n",
       "      <td>NaN</td>\n",
       "      <td>NaN</td>\n",
       "      <td>NaN</td>\n",
       "    </tr>\n",
       "    <tr>\n",
       "      <th>110157</th>\n",
       "      <td>1966544</td>\n",
       "      <td>5.0</td>\n",
       "      <td>2005-09-28</td>\n",
       "      <td>2782</td>\n",
       "      <td>1995.0</td>\n",
       "      <td>Braveheart</td>\n",
       "      <td>tt0112573</td>\n",
       "      <td>movie</td>\n",
       "      <td>0.0</td>\n",
       "      <td>178</td>\n",
       "      <td>Biography,Drama,History</td>\n",
       "    </tr>\n",
       "    <tr>\n",
       "      <th>117266</th>\n",
       "      <td>88571</td>\n",
       "      <td>3.0</td>\n",
       "      <td>2000-04-15</td>\n",
       "      <td>3182</td>\n",
       "      <td>1997.0</td>\n",
       "      <td>Private Parts</td>\n",
       "      <td>tt0119951</td>\n",
       "      <td>movie</td>\n",
       "      <td>0.0</td>\n",
       "      <td>109</td>\n",
       "      <td>Biography,Comedy,Drama</td>\n",
       "    </tr>\n",
       "  </tbody>\n",
       "</table>\n",
       "</div>"
      ],
      "text/plain": [
       "         Cust_Id  Rating        Date  Movie_Id    Year  \\\n",
       "110157   2217043     5.0  2004-05-01      2782  1995.0   \n",
       "5355305    14833     2.0  2005-06-08      1067  1956.0   \n",
       "5355305  2122411     5.0  2005-02-06      2178  1998.0   \n",
       "110157   1966544     5.0  2005-09-28      2782  1995.0   \n",
       "117266     88571     3.0  2000-04-15      3182  1997.0   \n",
       "\n",
       "                                Title     tconst titleType  isAdult  \\\n",
       "110157                     Braveheart  tt0112573     movie      0.0   \n",
       "5355305  Earth vs. The Flying Saucers        NaN       NaN      NaN   \n",
       "5355305                          Lock        NaN       NaN      NaN   \n",
       "110157                     Braveheart  tt0112573     movie      0.0   \n",
       "117266                  Private Parts  tt0119951     movie      0.0   \n",
       "\n",
       "        runtimeMinutes                   genres  \n",
       "110157             178  Biography,Drama,History  \n",
       "5355305            NaN                      NaN  \n",
       "5355305            NaN                      NaN  \n",
       "110157             178  Biography,Drama,History  \n",
       "117266             109   Biography,Comedy,Drama  "
      ]
     },
     "execution_count": 29,
     "metadata": {},
     "output_type": "execute_result"
    }
   ],
   "source": [
    "joined.sample(5)"
   ]
  },
  {
   "cell_type": "code",
   "execution_count": 30,
   "metadata": {},
   "outputs": [
    {
     "data": {
      "text/plain": [
       "(1296699, 11)"
      ]
     },
     "execution_count": 30,
     "metadata": {},
     "output_type": "execute_result"
    }
   ],
   "source": [
    "joined.shape"
   ]
  },
  {
   "cell_type": "code",
   "execution_count": 31,
   "metadata": {},
   "outputs": [
    {
     "data": {
      "text/plain": [
       "Cust_Id                0\n",
       "Rating                 0\n",
       "Date                   0\n",
       "Movie_Id               0\n",
       "Year                  13\n",
       "Title                  0\n",
       "tconst            290882\n",
       "titleType         290882\n",
       "isAdult           290882\n",
       "runtimeMinutes    294724\n",
       "genres            292444\n",
       "dtype: int64"
      ]
     },
     "execution_count": 31,
     "metadata": {},
     "output_type": "execute_result"
    }
   ],
   "source": [
    "joined.isnull().sum()"
   ]
  },
  {
   "cell_type": "code",
   "execution_count": 32,
   "metadata": {},
   "outputs": [],
   "source": [
    "# check. some errors in the dates... how to fix?\n",
    "#joined[joined['Title'].str.contains('Godfather')]\n"
   ]
  },
  {
   "cell_type": "code",
   "execution_count": 33,
   "metadata": {},
   "outputs": [],
   "source": [
    "# gonna drop all nulls\n",
    "joined = joined.dropna()"
   ]
  },
  {
   "cell_type": "code",
   "execution_count": 34,
   "metadata": {},
   "outputs": [
    {
     "data": {
      "text/plain": [
       "(1001783, 11)"
      ]
     },
     "execution_count": 34,
     "metadata": {},
     "output_type": "execute_result"
    }
   ],
   "source": [
    "joined.shape"
   ]
  },
  {
   "cell_type": "code",
   "execution_count": 44,
   "metadata": {},
   "outputs": [
    {
     "data": {
      "text/html": [
       "<div>\n",
       "<style scoped>\n",
       "    .dataframe tbody tr th:only-of-type {\n",
       "        vertical-align: middle;\n",
       "    }\n",
       "\n",
       "    .dataframe tbody tr th {\n",
       "        vertical-align: top;\n",
       "    }\n",
       "\n",
       "    .dataframe thead th {\n",
       "        text-align: right;\n",
       "    }\n",
       "</style>\n",
       "<table border=\"1\" class=\"dataframe\">\n",
       "  <thead>\n",
       "    <tr style=\"text-align: right;\">\n",
       "      <th></th>\n",
       "      <th>Cust_Id</th>\n",
       "      <th>Rating</th>\n",
       "      <th>Date</th>\n",
       "      <th>Movie_Id</th>\n",
       "      <th>Year</th>\n",
       "      <th>Title</th>\n",
       "      <th>tconst</th>\n",
       "      <th>titleType</th>\n",
       "      <th>isAdult</th>\n",
       "      <th>runtimeMinutes</th>\n",
       "      <th>genres</th>\n",
       "    </tr>\n",
       "  </thead>\n",
       "  <tbody>\n",
       "    <tr>\n",
       "      <th>116788</th>\n",
       "      <td>2632461</td>\n",
       "      <td>3.0</td>\n",
       "      <td>2005-07-22</td>\n",
       "      <td>3</td>\n",
       "      <td>1997.0</td>\n",
       "      <td>Character</td>\n",
       "      <td>tt0119448</td>\n",
       "      <td>movie</td>\n",
       "      <td>0.0</td>\n",
       "      <td>122</td>\n",
       "      <td>Crime,Drama,Mystery</td>\n",
       "    </tr>\n",
       "    <tr>\n",
       "      <th>116788</th>\n",
       "      <td>931626</td>\n",
       "      <td>2.0</td>\n",
       "      <td>2004-07-08</td>\n",
       "      <td>3</td>\n",
       "      <td>1997.0</td>\n",
       "      <td>Character</td>\n",
       "      <td>tt0119448</td>\n",
       "      <td>movie</td>\n",
       "      <td>0.0</td>\n",
       "      <td>122</td>\n",
       "      <td>Crime,Drama,Mystery</td>\n",
       "    </tr>\n",
       "    <tr>\n",
       "      <th>116788</th>\n",
       "      <td>1628475</td>\n",
       "      <td>4.0</td>\n",
       "      <td>2005-11-14</td>\n",
       "      <td>3</td>\n",
       "      <td>1997.0</td>\n",
       "      <td>Character</td>\n",
       "      <td>tt0119448</td>\n",
       "      <td>movie</td>\n",
       "      <td>0.0</td>\n",
       "      <td>122</td>\n",
       "      <td>Crime,Drama,Mystery</td>\n",
       "    </tr>\n",
       "    <tr>\n",
       "      <th>116788</th>\n",
       "      <td>2266857</td>\n",
       "      <td>3.0</td>\n",
       "      <td>2003-06-13</td>\n",
       "      <td>3</td>\n",
       "      <td>1997.0</td>\n",
       "      <td>Character</td>\n",
       "      <td>tt0119448</td>\n",
       "      <td>movie</td>\n",
       "      <td>0.0</td>\n",
       "      <td>122</td>\n",
       "      <td>Crime,Drama,Mystery</td>\n",
       "    </tr>\n",
       "    <tr>\n",
       "      <th>116788</th>\n",
       "      <td>402377</td>\n",
       "      <td>4.0</td>\n",
       "      <td>2005-04-10</td>\n",
       "      <td>3</td>\n",
       "      <td>1997.0</td>\n",
       "      <td>Character</td>\n",
       "      <td>tt0119448</td>\n",
       "      <td>movie</td>\n",
       "      <td>0.0</td>\n",
       "      <td>122</td>\n",
       "      <td>Crime,Drama,Mystery</td>\n",
       "    </tr>\n",
       "  </tbody>\n",
       "</table>\n",
       "</div>"
      ],
      "text/plain": [
       "        Cust_Id  Rating        Date  Movie_Id    Year      Title     tconst  \\\n",
       "116788  2632461     3.0  2005-07-22         3  1997.0  Character  tt0119448   \n",
       "116788   931626     2.0  2004-07-08         3  1997.0  Character  tt0119448   \n",
       "116788  1628475     4.0  2005-11-14         3  1997.0  Character  tt0119448   \n",
       "116788  2266857     3.0  2003-06-13         3  1997.0  Character  tt0119448   \n",
       "116788   402377     4.0  2005-04-10         3  1997.0  Character  tt0119448   \n",
       "\n",
       "       titleType  isAdult runtimeMinutes               genres  \n",
       "116788     movie      0.0            122  Crime,Drama,Mystery  \n",
       "116788     movie      0.0            122  Crime,Drama,Mystery  \n",
       "116788     movie      0.0            122  Crime,Drama,Mystery  \n",
       "116788     movie      0.0            122  Crime,Drama,Mystery  \n",
       "116788     movie      0.0            122  Crime,Drama,Mystery  "
      ]
     },
     "execution_count": 44,
     "metadata": {},
     "output_type": "execute_result"
    }
   ],
   "source": [
    "joined.head()"
   ]
  },
  {
   "cell_type": "code",
   "execution_count": 45,
   "metadata": {},
   "outputs": [],
   "source": [
    "#imdb2=pd.read_csv('./title.crew.tsv', sep='\\t')"
   ]
  },
  {
   "cell_type": "code",
   "execution_count": 46,
   "metadata": {},
   "outputs": [],
   "source": [
    "#imdb2.head()"
   ]
  },
  {
   "cell_type": "code",
   "execution_count": 38,
   "metadata": {},
   "outputs": [],
   "source": [
    "imdb3=pd.read_csv('./title.principals.tsv', sep='\\t')"
   ]
  },
  {
   "cell_type": "code",
   "execution_count": 39,
   "metadata": {},
   "outputs": [
    {
     "data": {
      "text/html": [
       "<div>\n",
       "<style scoped>\n",
       "    .dataframe tbody tr th:only-of-type {\n",
       "        vertical-align: middle;\n",
       "    }\n",
       "\n",
       "    .dataframe tbody tr th {\n",
       "        vertical-align: top;\n",
       "    }\n",
       "\n",
       "    .dataframe thead th {\n",
       "        text-align: right;\n",
       "    }\n",
       "</style>\n",
       "<table border=\"1\" class=\"dataframe\">\n",
       "  <thead>\n",
       "    <tr style=\"text-align: right;\">\n",
       "      <th></th>\n",
       "      <th>tconst</th>\n",
       "      <th>ordering</th>\n",
       "      <th>nconst</th>\n",
       "      <th>category</th>\n",
       "      <th>job</th>\n",
       "      <th>characters</th>\n",
       "    </tr>\n",
       "  </thead>\n",
       "  <tbody>\n",
       "    <tr>\n",
       "      <th>0</th>\n",
       "      <td>tt0000001</td>\n",
       "      <td>1</td>\n",
       "      <td>nm1588970</td>\n",
       "      <td>self</td>\n",
       "      <td>\\N</td>\n",
       "      <td>[\"Herself\"]</td>\n",
       "    </tr>\n",
       "    <tr>\n",
       "      <th>1</th>\n",
       "      <td>tt0000001</td>\n",
       "      <td>2</td>\n",
       "      <td>nm0005690</td>\n",
       "      <td>director</td>\n",
       "      <td>\\N</td>\n",
       "      <td>\\N</td>\n",
       "    </tr>\n",
       "    <tr>\n",
       "      <th>2</th>\n",
       "      <td>tt0000001</td>\n",
       "      <td>3</td>\n",
       "      <td>nm0374658</td>\n",
       "      <td>cinematographer</td>\n",
       "      <td>director of photography</td>\n",
       "      <td>\\N</td>\n",
       "    </tr>\n",
       "    <tr>\n",
       "      <th>3</th>\n",
       "      <td>tt0000002</td>\n",
       "      <td>1</td>\n",
       "      <td>nm0721526</td>\n",
       "      <td>director</td>\n",
       "      <td>\\N</td>\n",
       "      <td>\\N</td>\n",
       "    </tr>\n",
       "    <tr>\n",
       "      <th>4</th>\n",
       "      <td>tt0000002</td>\n",
       "      <td>2</td>\n",
       "      <td>nm1335271</td>\n",
       "      <td>composer</td>\n",
       "      <td>\\N</td>\n",
       "      <td>\\N</td>\n",
       "    </tr>\n",
       "  </tbody>\n",
       "</table>\n",
       "</div>"
      ],
      "text/plain": [
       "      tconst  ordering     nconst         category                      job  \\\n",
       "0  tt0000001         1  nm1588970             self                       \\N   \n",
       "1  tt0000001         2  nm0005690         director                       \\N   \n",
       "2  tt0000001         3  nm0374658  cinematographer  director of photography   \n",
       "3  tt0000002         1  nm0721526         director                       \\N   \n",
       "4  tt0000002         2  nm1335271         composer                       \\N   \n",
       "\n",
       "    characters  \n",
       "0  [\"Herself\"]  \n",
       "1           \\N  \n",
       "2           \\N  \n",
       "3           \\N  \n",
       "4           \\N  "
      ]
     },
     "execution_count": 39,
     "metadata": {},
     "output_type": "execute_result"
    }
   ],
   "source": [
    "imdb3.head()"
   ]
  },
  {
   "cell_type": "code",
   "execution_count": 51,
   "metadata": {},
   "outputs": [
    {
     "data": {
      "text/plain": [
       "actor                  7322018\n",
       "actress                5250963\n",
       "self                   5229972\n",
       "writer                 3779182\n",
       "director               3383395\n",
       "producer               1806779\n",
       "composer               1127479\n",
       "cinematographer        1103955\n",
       "editor                 1033958\n",
       "production_designer     251591\n",
       "archive_footage         179625\n",
       "archive_sound             1911\n",
       "Name: category, dtype: int64"
      ]
     },
     "execution_count": 51,
     "metadata": {},
     "output_type": "execute_result"
    }
   ],
   "source": [
    "imdb3['category'].value_counts()"
   ]
  },
  {
   "cell_type": "code",
   "execution_count": null,
   "metadata": {},
   "outputs": [],
   "source": []
  },
  {
   "cell_type": "code",
   "execution_count": 49,
   "metadata": {},
   "outputs": [
    {
     "data": {
      "text/html": [
       "<div>\n",
       "<style scoped>\n",
       "    .dataframe tbody tr th:only-of-type {\n",
       "        vertical-align: middle;\n",
       "    }\n",
       "\n",
       "    .dataframe tbody tr th {\n",
       "        vertical-align: top;\n",
       "    }\n",
       "\n",
       "    .dataframe thead th {\n",
       "        text-align: right;\n",
       "    }\n",
       "</style>\n",
       "<table border=\"1\" class=\"dataframe\">\n",
       "  <thead>\n",
       "    <tr style=\"text-align: right;\">\n",
       "      <th></th>\n",
       "      <th>Cust_Id</th>\n",
       "      <th>Rating</th>\n",
       "      <th>Date</th>\n",
       "      <th>Movie_Id</th>\n",
       "      <th>Year</th>\n",
       "      <th>Title</th>\n",
       "      <th>tconst</th>\n",
       "      <th>titleType</th>\n",
       "      <th>isAdult</th>\n",
       "      <th>runtimeMinutes</th>\n",
       "      <th>genres</th>\n",
       "      <th>ordering</th>\n",
       "      <th>nconst</th>\n",
       "      <th>category</th>\n",
       "      <th>job</th>\n",
       "      <th>characters</th>\n",
       "    </tr>\n",
       "  </thead>\n",
       "  <tbody>\n",
       "    <tr>\n",
       "      <th>0</th>\n",
       "      <td>2632461</td>\n",
       "      <td>3.0</td>\n",
       "      <td>2005-07-22</td>\n",
       "      <td>3</td>\n",
       "      <td>1997.0</td>\n",
       "      <td>Character</td>\n",
       "      <td>tt0119448</td>\n",
       "      <td>movie</td>\n",
       "      <td>0.0</td>\n",
       "      <td>122</td>\n",
       "      <td>Crime,Drama,Mystery</td>\n",
       "      <td>10</td>\n",
       "      <td>nm0831114</td>\n",
       "      <td>cinematographer</td>\n",
       "      <td>\\N</td>\n",
       "      <td>\\N</td>\n",
       "    </tr>\n",
       "    <tr>\n",
       "      <th>1</th>\n",
       "      <td>2632461</td>\n",
       "      <td>3.0</td>\n",
       "      <td>2005-07-22</td>\n",
       "      <td>3</td>\n",
       "      <td>1997.0</td>\n",
       "      <td>Character</td>\n",
       "      <td>tt0119448</td>\n",
       "      <td>movie</td>\n",
       "      <td>0.0</td>\n",
       "      <td>122</td>\n",
       "      <td>Crime,Drama,Mystery</td>\n",
       "      <td>1</td>\n",
       "      <td>nm0208798</td>\n",
       "      <td>actor</td>\n",
       "      <td>\\N</td>\n",
       "      <td>[\"Jacob 12 jaar\"]</td>\n",
       "    </tr>\n",
       "    <tr>\n",
       "      <th>2</th>\n",
       "      <td>2632461</td>\n",
       "      <td>3.0</td>\n",
       "      <td>2005-07-22</td>\n",
       "      <td>3</td>\n",
       "      <td>1997.0</td>\n",
       "      <td>Character</td>\n",
       "      <td>tt0119448</td>\n",
       "      <td>movie</td>\n",
       "      <td>0.0</td>\n",
       "      <td>122</td>\n",
       "      <td>Crime,Drama,Mystery</td>\n",
       "      <td>2</td>\n",
       "      <td>nm0213912</td>\n",
       "      <td>actor</td>\n",
       "      <td>\\N</td>\n",
       "      <td>[\"Dreverhaven\"]</td>\n",
       "    </tr>\n",
       "    <tr>\n",
       "      <th>3</th>\n",
       "      <td>2632461</td>\n",
       "      <td>3.0</td>\n",
       "      <td>2005-07-22</td>\n",
       "      <td>3</td>\n",
       "      <td>1997.0</td>\n",
       "      <td>Character</td>\n",
       "      <td>tt0119448</td>\n",
       "      <td>movie</td>\n",
       "      <td>0.0</td>\n",
       "      <td>122</td>\n",
       "      <td>Crime,Drama,Mystery</td>\n",
       "      <td>3</td>\n",
       "      <td>nm0404806</td>\n",
       "      <td>actor</td>\n",
       "      <td>\\N</td>\n",
       "      <td>[\"Katadreuffe\"]</td>\n",
       "    </tr>\n",
       "    <tr>\n",
       "      <th>4</th>\n",
       "      <td>2632461</td>\n",
       "      <td>3.0</td>\n",
       "      <td>2005-07-22</td>\n",
       "      <td>3</td>\n",
       "      <td>1997.0</td>\n",
       "      <td>Character</td>\n",
       "      <td>tt0119448</td>\n",
       "      <td>movie</td>\n",
       "      <td>0.0</td>\n",
       "      <td>122</td>\n",
       "      <td>Crime,Drama,Mystery</td>\n",
       "      <td>4</td>\n",
       "      <td>nm0776926</td>\n",
       "      <td>actress</td>\n",
       "      <td>\\N</td>\n",
       "      <td>[\"Joba\"]</td>\n",
       "    </tr>\n",
       "  </tbody>\n",
       "</table>\n",
       "</div>"
      ],
      "text/plain": [
       "   Cust_Id  Rating        Date  Movie_Id    Year      Title     tconst  \\\n",
       "0  2632461     3.0  2005-07-22         3  1997.0  Character  tt0119448   \n",
       "1  2632461     3.0  2005-07-22         3  1997.0  Character  tt0119448   \n",
       "2  2632461     3.0  2005-07-22         3  1997.0  Character  tt0119448   \n",
       "3  2632461     3.0  2005-07-22         3  1997.0  Character  tt0119448   \n",
       "4  2632461     3.0  2005-07-22         3  1997.0  Character  tt0119448   \n",
       "\n",
       "  titleType  isAdult runtimeMinutes               genres  ordering     nconst  \\\n",
       "0     movie      0.0            122  Crime,Drama,Mystery        10  nm0831114   \n",
       "1     movie      0.0            122  Crime,Drama,Mystery         1  nm0208798   \n",
       "2     movie      0.0            122  Crime,Drama,Mystery         2  nm0213912   \n",
       "3     movie      0.0            122  Crime,Drama,Mystery         3  nm0404806   \n",
       "4     movie      0.0            122  Crime,Drama,Mystery         4  nm0776926   \n",
       "\n",
       "          category job         characters  \n",
       "0  cinematographer  \\N                 \\N  \n",
       "1            actor  \\N  [\"Jacob 12 jaar\"]  \n",
       "2            actor  \\N    [\"Dreverhaven\"]  \n",
       "3            actor  \\N    [\"Katadreuffe\"]  \n",
       "4          actress  \\N           [\"Joba\"]  "
      ]
     },
     "execution_count": 49,
     "metadata": {},
     "output_type": "execute_result"
    }
   ],
   "source": [
    "joined2.head()"
   ]
  },
  {
   "cell_type": "code",
   "execution_count": 43,
   "metadata": {},
   "outputs": [
    {
     "data": {
      "text/plain": [
       "actor                  7322018\n",
       "actress                5250963\n",
       "self                   5229972\n",
       "writer                 3779182\n",
       "director               3383395\n",
       "producer               1806779\n",
       "composer               1127479\n",
       "cinematographer        1103955\n",
       "editor                 1033958\n",
       "production_designer     251591\n",
       "archive_footage         179625\n",
       "archive_sound             1911\n",
       "Name: category, dtype: int64"
      ]
     },
     "execution_count": 43,
     "metadata": {},
     "output_type": "execute_result"
    }
   ],
   "source": [
    "imdb3['category'].value_counts()"
   ]
  },
  {
   "cell_type": "code",
   "execution_count": 54,
   "metadata": {},
   "outputs": [],
   "source": [
    "# only concerned with actor, actress, director\n",
    "imdb3 = imdb3[(imdb3['category'] == 'actor') | (imdb3['category'] == 'actress') | (imdb3['category'] == 'director')]"
   ]
  },
  {
   "cell_type": "code",
   "execution_count": 55,
   "metadata": {},
   "outputs": [
    {
     "data": {
      "text/html": [
       "<div>\n",
       "<style scoped>\n",
       "    .dataframe tbody tr th:only-of-type {\n",
       "        vertical-align: middle;\n",
       "    }\n",
       "\n",
       "    .dataframe tbody tr th {\n",
       "        vertical-align: top;\n",
       "    }\n",
       "\n",
       "    .dataframe thead th {\n",
       "        text-align: right;\n",
       "    }\n",
       "</style>\n",
       "<table border=\"1\" class=\"dataframe\">\n",
       "  <thead>\n",
       "    <tr style=\"text-align: right;\">\n",
       "      <th></th>\n",
       "      <th>tconst</th>\n",
       "      <th>ordering</th>\n",
       "      <th>nconst</th>\n",
       "      <th>category</th>\n",
       "      <th>job</th>\n",
       "      <th>characters</th>\n",
       "    </tr>\n",
       "  </thead>\n",
       "  <tbody>\n",
       "    <tr>\n",
       "      <th>1</th>\n",
       "      <td>tt0000001</td>\n",
       "      <td>2</td>\n",
       "      <td>nm0005690</td>\n",
       "      <td>director</td>\n",
       "      <td>\\N</td>\n",
       "      <td>\\N</td>\n",
       "    </tr>\n",
       "    <tr>\n",
       "      <th>3</th>\n",
       "      <td>tt0000002</td>\n",
       "      <td>1</td>\n",
       "      <td>nm0721526</td>\n",
       "      <td>director</td>\n",
       "      <td>\\N</td>\n",
       "      <td>\\N</td>\n",
       "    </tr>\n",
       "    <tr>\n",
       "      <th>5</th>\n",
       "      <td>tt0000003</td>\n",
       "      <td>1</td>\n",
       "      <td>nm0721526</td>\n",
       "      <td>director</td>\n",
       "      <td>\\N</td>\n",
       "      <td>\\N</td>\n",
       "    </tr>\n",
       "    <tr>\n",
       "      <th>9</th>\n",
       "      <td>tt0000004</td>\n",
       "      <td>1</td>\n",
       "      <td>nm0721526</td>\n",
       "      <td>director</td>\n",
       "      <td>\\N</td>\n",
       "      <td>\\N</td>\n",
       "    </tr>\n",
       "    <tr>\n",
       "      <th>11</th>\n",
       "      <td>tt0000005</td>\n",
       "      <td>1</td>\n",
       "      <td>nm0443482</td>\n",
       "      <td>actor</td>\n",
       "      <td>\\N</td>\n",
       "      <td>[\"Blacksmith\"]</td>\n",
       "    </tr>\n",
       "  </tbody>\n",
       "</table>\n",
       "</div>"
      ],
      "text/plain": [
       "       tconst  ordering     nconst  category job      characters\n",
       "1   tt0000001         2  nm0005690  director  \\N              \\N\n",
       "3   tt0000002         1  nm0721526  director  \\N              \\N\n",
       "5   tt0000003         1  nm0721526  director  \\N              \\N\n",
       "9   tt0000004         1  nm0721526  director  \\N              \\N\n",
       "11  tt0000005         1  nm0443482     actor  \\N  [\"Blacksmith\"]"
      ]
     },
     "execution_count": 55,
     "metadata": {},
     "output_type": "execute_result"
    }
   ],
   "source": [
    "imdb3.head()"
   ]
  },
  {
   "cell_type": "code",
   "execution_count": 61,
   "metadata": {},
   "outputs": [],
   "source": [
    "imdb4=pd.read_csv('./name.basics.tsv', sep='\\t')"
   ]
  },
  {
   "cell_type": "code",
   "execution_count": 62,
   "metadata": {},
   "outputs": [
    {
     "data": {
      "text/html": [
       "<div>\n",
       "<style scoped>\n",
       "    .dataframe tbody tr th:only-of-type {\n",
       "        vertical-align: middle;\n",
       "    }\n",
       "\n",
       "    .dataframe tbody tr th {\n",
       "        vertical-align: top;\n",
       "    }\n",
       "\n",
       "    .dataframe thead th {\n",
       "        text-align: right;\n",
       "    }\n",
       "</style>\n",
       "<table border=\"1\" class=\"dataframe\">\n",
       "  <thead>\n",
       "    <tr style=\"text-align: right;\">\n",
       "      <th></th>\n",
       "      <th>nconst</th>\n",
       "      <th>primaryName</th>\n",
       "      <th>birthYear</th>\n",
       "      <th>deathYear</th>\n",
       "      <th>primaryProfession</th>\n",
       "      <th>knownForTitles</th>\n",
       "    </tr>\n",
       "  </thead>\n",
       "  <tbody>\n",
       "    <tr>\n",
       "      <th>0</th>\n",
       "      <td>nm0000001</td>\n",
       "      <td>Fred Astaire</td>\n",
       "      <td>1899</td>\n",
       "      <td>1987</td>\n",
       "      <td>soundtrack,actor,miscellaneous</td>\n",
       "      <td>tt0072308,tt0053137,tt0050419,tt0043044</td>\n",
       "    </tr>\n",
       "    <tr>\n",
       "      <th>1</th>\n",
       "      <td>nm0000002</td>\n",
       "      <td>Lauren Bacall</td>\n",
       "      <td>1924</td>\n",
       "      <td>2014</td>\n",
       "      <td>actress,soundtrack</td>\n",
       "      <td>tt0037382,tt0117057,tt0038355,tt0071877</td>\n",
       "    </tr>\n",
       "    <tr>\n",
       "      <th>2</th>\n",
       "      <td>nm0000003</td>\n",
       "      <td>Brigitte Bardot</td>\n",
       "      <td>1934</td>\n",
       "      <td>\\N</td>\n",
       "      <td>actress,soundtrack,producer</td>\n",
       "      <td>tt0059956,tt0049189,tt0054452,tt0057345</td>\n",
       "    </tr>\n",
       "    <tr>\n",
       "      <th>3</th>\n",
       "      <td>nm0000004</td>\n",
       "      <td>John Belushi</td>\n",
       "      <td>1949</td>\n",
       "      <td>1982</td>\n",
       "      <td>actor,writer,soundtrack</td>\n",
       "      <td>tt0077975,tt0072562,tt0080455,tt0078723</td>\n",
       "    </tr>\n",
       "    <tr>\n",
       "      <th>4</th>\n",
       "      <td>nm0000005</td>\n",
       "      <td>Ingmar Bergman</td>\n",
       "      <td>1918</td>\n",
       "      <td>2007</td>\n",
       "      <td>writer,director,actor</td>\n",
       "      <td>tt0083922,tt0060827,tt0050986,tt0050976</td>\n",
       "    </tr>\n",
       "  </tbody>\n",
       "</table>\n",
       "</div>"
      ],
      "text/plain": [
       "      nconst      primaryName birthYear deathYear  \\\n",
       "0  nm0000001     Fred Astaire      1899      1987   \n",
       "1  nm0000002    Lauren Bacall      1924      2014   \n",
       "2  nm0000003  Brigitte Bardot      1934        \\N   \n",
       "3  nm0000004     John Belushi      1949      1982   \n",
       "4  nm0000005   Ingmar Bergman      1918      2007   \n",
       "\n",
       "                primaryProfession                           knownForTitles  \n",
       "0  soundtrack,actor,miscellaneous  tt0072308,tt0053137,tt0050419,tt0043044  \n",
       "1              actress,soundtrack  tt0037382,tt0117057,tt0038355,tt0071877  \n",
       "2     actress,soundtrack,producer  tt0059956,tt0049189,tt0054452,tt0057345  \n",
       "3         actor,writer,soundtrack  tt0077975,tt0072562,tt0080455,tt0078723  \n",
       "4           writer,director,actor  tt0083922,tt0060827,tt0050986,tt0050976  "
      ]
     },
     "execution_count": 62,
     "metadata": {},
     "output_type": "execute_result"
    }
   ],
   "source": [
    "imdb4.head()"
   ]
  },
  {
   "cell_type": "code",
   "execution_count": 66,
   "metadata": {},
   "outputs": [],
   "source": [
    "merged_cast = pd.merge(imdb3, imdb4,  how='inner', on='nconst')"
   ]
  },
  {
   "cell_type": "code",
   "execution_count": 67,
   "metadata": {},
   "outputs": [
    {
     "data": {
      "text/html": [
       "<div>\n",
       "<style scoped>\n",
       "    .dataframe tbody tr th:only-of-type {\n",
       "        vertical-align: middle;\n",
       "    }\n",
       "\n",
       "    .dataframe tbody tr th {\n",
       "        vertical-align: top;\n",
       "    }\n",
       "\n",
       "    .dataframe thead th {\n",
       "        text-align: right;\n",
       "    }\n",
       "</style>\n",
       "<table border=\"1\" class=\"dataframe\">\n",
       "  <thead>\n",
       "    <tr style=\"text-align: right;\">\n",
       "      <th></th>\n",
       "      <th>tconst</th>\n",
       "      <th>ordering</th>\n",
       "      <th>nconst</th>\n",
       "      <th>category</th>\n",
       "      <th>job</th>\n",
       "      <th>characters</th>\n",
       "      <th>primaryName</th>\n",
       "      <th>birthYear</th>\n",
       "      <th>deathYear</th>\n",
       "      <th>primaryProfession</th>\n",
       "      <th>knownForTitles</th>\n",
       "    </tr>\n",
       "  </thead>\n",
       "  <tbody>\n",
       "    <tr>\n",
       "      <th>0</th>\n",
       "      <td>tt0000001</td>\n",
       "      <td>2</td>\n",
       "      <td>nm0005690</td>\n",
       "      <td>director</td>\n",
       "      <td>\\N</td>\n",
       "      <td>\\N</td>\n",
       "      <td>William K.L. Dickson</td>\n",
       "      <td>1860</td>\n",
       "      <td>1935</td>\n",
       "      <td>cinematographer,director,producer</td>\n",
       "      <td>tt6687694,tt1496763,tt1428455,tt0219560</td>\n",
       "    </tr>\n",
       "    <tr>\n",
       "      <th>1</th>\n",
       "      <td>tt0000005</td>\n",
       "      <td>3</td>\n",
       "      <td>nm0005690</td>\n",
       "      <td>director</td>\n",
       "      <td>\\N</td>\n",
       "      <td>\\N</td>\n",
       "      <td>William K.L. Dickson</td>\n",
       "      <td>1860</td>\n",
       "      <td>1935</td>\n",
       "      <td>cinematographer,director,producer</td>\n",
       "      <td>tt6687694,tt1496763,tt1428455,tt0219560</td>\n",
       "    </tr>\n",
       "    <tr>\n",
       "      <th>2</th>\n",
       "      <td>tt0000006</td>\n",
       "      <td>1</td>\n",
       "      <td>nm0005690</td>\n",
       "      <td>director</td>\n",
       "      <td>\\N</td>\n",
       "      <td>\\N</td>\n",
       "      <td>William K.L. Dickson</td>\n",
       "      <td>1860</td>\n",
       "      <td>1935</td>\n",
       "      <td>cinematographer,director,producer</td>\n",
       "      <td>tt6687694,tt1496763,tt1428455,tt0219560</td>\n",
       "    </tr>\n",
       "    <tr>\n",
       "      <th>3</th>\n",
       "      <td>tt0000007</td>\n",
       "      <td>3</td>\n",
       "      <td>nm0005690</td>\n",
       "      <td>director</td>\n",
       "      <td>\\N</td>\n",
       "      <td>\\N</td>\n",
       "      <td>William K.L. Dickson</td>\n",
       "      <td>1860</td>\n",
       "      <td>1935</td>\n",
       "      <td>cinematographer,director,producer</td>\n",
       "      <td>tt6687694,tt1496763,tt1428455,tt0219560</td>\n",
       "    </tr>\n",
       "    <tr>\n",
       "      <th>4</th>\n",
       "      <td>tt0000008</td>\n",
       "      <td>2</td>\n",
       "      <td>nm0005690</td>\n",
       "      <td>director</td>\n",
       "      <td>\\N</td>\n",
       "      <td>\\N</td>\n",
       "      <td>William K.L. Dickson</td>\n",
       "      <td>1860</td>\n",
       "      <td>1935</td>\n",
       "      <td>cinematographer,director,producer</td>\n",
       "      <td>tt6687694,tt1496763,tt1428455,tt0219560</td>\n",
       "    </tr>\n",
       "  </tbody>\n",
       "</table>\n",
       "</div>"
      ],
      "text/plain": [
       "      tconst  ordering     nconst  category job characters  \\\n",
       "0  tt0000001         2  nm0005690  director  \\N         \\N   \n",
       "1  tt0000005         3  nm0005690  director  \\N         \\N   \n",
       "2  tt0000006         1  nm0005690  director  \\N         \\N   \n",
       "3  tt0000007         3  nm0005690  director  \\N         \\N   \n",
       "4  tt0000008         2  nm0005690  director  \\N         \\N   \n",
       "\n",
       "            primaryName birthYear deathYear  \\\n",
       "0  William K.L. Dickson      1860      1935   \n",
       "1  William K.L. Dickson      1860      1935   \n",
       "2  William K.L. Dickson      1860      1935   \n",
       "3  William K.L. Dickson      1860      1935   \n",
       "4  William K.L. Dickson      1860      1935   \n",
       "\n",
       "                   primaryProfession                           knownForTitles  \n",
       "0  cinematographer,director,producer  tt6687694,tt1496763,tt1428455,tt0219560  \n",
       "1  cinematographer,director,producer  tt6687694,tt1496763,tt1428455,tt0219560  \n",
       "2  cinematographer,director,producer  tt6687694,tt1496763,tt1428455,tt0219560  \n",
       "3  cinematographer,director,producer  tt6687694,tt1496763,tt1428455,tt0219560  \n",
       "4  cinematographer,director,producer  tt6687694,tt1496763,tt1428455,tt0219560  "
      ]
     },
     "execution_count": 67,
     "metadata": {},
     "output_type": "execute_result"
    }
   ],
   "source": [
    "merged_cast.head()"
   ]
  },
  {
   "cell_type": "code",
   "execution_count": 68,
   "metadata": {},
   "outputs": [],
   "source": [
    "# drop columns that are not needed for analysis\n",
    "merged_cast.drop(['primaryProfession', 'knownForTitles'], axis=1, inplace=True)"
   ]
  },
  {
   "cell_type": "code",
   "execution_count": 69,
   "metadata": {},
   "outputs": [],
   "source": [
    "# create a pivot table \n",
    "cast_dir = merged_cast.pivot_table(values='primaryName', index='tconst', columns='category', aggfunc='first')"
   ]
  },
  {
   "cell_type": "code",
   "execution_count": 70,
   "metadata": {},
   "outputs": [
    {
     "data": {
      "text/html": [
       "<div>\n",
       "<style scoped>\n",
       "    .dataframe tbody tr th:only-of-type {\n",
       "        vertical-align: middle;\n",
       "    }\n",
       "\n",
       "    .dataframe tbody tr th {\n",
       "        vertical-align: top;\n",
       "    }\n",
       "\n",
       "    .dataframe thead th {\n",
       "        text-align: right;\n",
       "    }\n",
       "</style>\n",
       "<table border=\"1\" class=\"dataframe\">\n",
       "  <thead>\n",
       "    <tr style=\"text-align: right;\">\n",
       "      <th>category</th>\n",
       "      <th>actor</th>\n",
       "      <th>actress</th>\n",
       "      <th>director</th>\n",
       "    </tr>\n",
       "    <tr>\n",
       "      <th>tconst</th>\n",
       "      <th></th>\n",
       "      <th></th>\n",
       "      <th></th>\n",
       "    </tr>\n",
       "  </thead>\n",
       "  <tbody>\n",
       "    <tr>\n",
       "      <th>tt0000001</th>\n",
       "      <td>NaN</td>\n",
       "      <td>NaN</td>\n",
       "      <td>William K.L. Dickson</td>\n",
       "    </tr>\n",
       "    <tr>\n",
       "      <th>tt0000002</th>\n",
       "      <td>NaN</td>\n",
       "      <td>NaN</td>\n",
       "      <td>Émile Reynaud</td>\n",
       "    </tr>\n",
       "    <tr>\n",
       "      <th>tt0000003</th>\n",
       "      <td>NaN</td>\n",
       "      <td>NaN</td>\n",
       "      <td>Émile Reynaud</td>\n",
       "    </tr>\n",
       "    <tr>\n",
       "      <th>tt0000004</th>\n",
       "      <td>NaN</td>\n",
       "      <td>NaN</td>\n",
       "      <td>Émile Reynaud</td>\n",
       "    </tr>\n",
       "    <tr>\n",
       "      <th>tt0000005</th>\n",
       "      <td>Charles Kayser</td>\n",
       "      <td>NaN</td>\n",
       "      <td>William K.L. Dickson</td>\n",
       "    </tr>\n",
       "  </tbody>\n",
       "</table>\n",
       "</div>"
      ],
      "text/plain": [
       "category            actor actress              director\n",
       "tconst                                                 \n",
       "tt0000001             NaN     NaN  William K.L. Dickson\n",
       "tt0000002             NaN     NaN         Émile Reynaud\n",
       "tt0000003             NaN     NaN         Émile Reynaud\n",
       "tt0000004             NaN     NaN         Émile Reynaud\n",
       "tt0000005  Charles Kayser     NaN  William K.L. Dickson"
      ]
     },
     "execution_count": 70,
     "metadata": {},
     "output_type": "execute_result"
    }
   ],
   "source": [
    "cast_dir.head()"
   ]
  },
  {
   "cell_type": "code",
   "execution_count": null,
   "metadata": {},
   "outputs": [],
   "source": [
    "# join to main dataset"
   ]
  },
  {
   "cell_type": "code",
   "execution_count": 71,
   "metadata": {},
   "outputs": [
    {
     "data": {
      "text/html": [
       "<div>\n",
       "<style scoped>\n",
       "    .dataframe tbody tr th:only-of-type {\n",
       "        vertical-align: middle;\n",
       "    }\n",
       "\n",
       "    .dataframe tbody tr th {\n",
       "        vertical-align: top;\n",
       "    }\n",
       "\n",
       "    .dataframe thead th {\n",
       "        text-align: right;\n",
       "    }\n",
       "</style>\n",
       "<table border=\"1\" class=\"dataframe\">\n",
       "  <thead>\n",
       "    <tr style=\"text-align: right;\">\n",
       "      <th></th>\n",
       "      <th>Cust_Id</th>\n",
       "      <th>Rating</th>\n",
       "      <th>Date</th>\n",
       "      <th>Movie_Id</th>\n",
       "      <th>Year</th>\n",
       "      <th>Title</th>\n",
       "      <th>tconst</th>\n",
       "      <th>titleType</th>\n",
       "      <th>isAdult</th>\n",
       "      <th>runtimeMinutes</th>\n",
       "      <th>genres</th>\n",
       "    </tr>\n",
       "  </thead>\n",
       "  <tbody>\n",
       "    <tr>\n",
       "      <th>116788</th>\n",
       "      <td>2632461</td>\n",
       "      <td>3.0</td>\n",
       "      <td>2005-07-22</td>\n",
       "      <td>3</td>\n",
       "      <td>1997.0</td>\n",
       "      <td>Character</td>\n",
       "      <td>tt0119448</td>\n",
       "      <td>movie</td>\n",
       "      <td>0.0</td>\n",
       "      <td>122</td>\n",
       "      <td>Crime,Drama,Mystery</td>\n",
       "    </tr>\n",
       "    <tr>\n",
       "      <th>116788</th>\n",
       "      <td>931626</td>\n",
       "      <td>2.0</td>\n",
       "      <td>2004-07-08</td>\n",
       "      <td>3</td>\n",
       "      <td>1997.0</td>\n",
       "      <td>Character</td>\n",
       "      <td>tt0119448</td>\n",
       "      <td>movie</td>\n",
       "      <td>0.0</td>\n",
       "      <td>122</td>\n",
       "      <td>Crime,Drama,Mystery</td>\n",
       "    </tr>\n",
       "    <tr>\n",
       "      <th>116788</th>\n",
       "      <td>1628475</td>\n",
       "      <td>4.0</td>\n",
       "      <td>2005-11-14</td>\n",
       "      <td>3</td>\n",
       "      <td>1997.0</td>\n",
       "      <td>Character</td>\n",
       "      <td>tt0119448</td>\n",
       "      <td>movie</td>\n",
       "      <td>0.0</td>\n",
       "      <td>122</td>\n",
       "      <td>Crime,Drama,Mystery</td>\n",
       "    </tr>\n",
       "    <tr>\n",
       "      <th>116788</th>\n",
       "      <td>2266857</td>\n",
       "      <td>3.0</td>\n",
       "      <td>2003-06-13</td>\n",
       "      <td>3</td>\n",
       "      <td>1997.0</td>\n",
       "      <td>Character</td>\n",
       "      <td>tt0119448</td>\n",
       "      <td>movie</td>\n",
       "      <td>0.0</td>\n",
       "      <td>122</td>\n",
       "      <td>Crime,Drama,Mystery</td>\n",
       "    </tr>\n",
       "    <tr>\n",
       "      <th>116788</th>\n",
       "      <td>402377</td>\n",
       "      <td>4.0</td>\n",
       "      <td>2005-04-10</td>\n",
       "      <td>3</td>\n",
       "      <td>1997.0</td>\n",
       "      <td>Character</td>\n",
       "      <td>tt0119448</td>\n",
       "      <td>movie</td>\n",
       "      <td>0.0</td>\n",
       "      <td>122</td>\n",
       "      <td>Crime,Drama,Mystery</td>\n",
       "    </tr>\n",
       "  </tbody>\n",
       "</table>\n",
       "</div>"
      ],
      "text/plain": [
       "        Cust_Id  Rating        Date  Movie_Id    Year      Title     tconst  \\\n",
       "116788  2632461     3.0  2005-07-22         3  1997.0  Character  tt0119448   \n",
       "116788   931626     2.0  2004-07-08         3  1997.0  Character  tt0119448   \n",
       "116788  1628475     4.0  2005-11-14         3  1997.0  Character  tt0119448   \n",
       "116788  2266857     3.0  2003-06-13         3  1997.0  Character  tt0119448   \n",
       "116788   402377     4.0  2005-04-10         3  1997.0  Character  tt0119448   \n",
       "\n",
       "       titleType  isAdult runtimeMinutes               genres  \n",
       "116788     movie      0.0            122  Crime,Drama,Mystery  \n",
       "116788     movie      0.0            122  Crime,Drama,Mystery  \n",
       "116788     movie      0.0            122  Crime,Drama,Mystery  \n",
       "116788     movie      0.0            122  Crime,Drama,Mystery  \n",
       "116788     movie      0.0            122  Crime,Drama,Mystery  "
      ]
     },
     "execution_count": 71,
     "metadata": {},
     "output_type": "execute_result"
    }
   ],
   "source": [
    "joined.head()"
   ]
  },
  {
   "cell_type": "code",
   "execution_count": 72,
   "metadata": {},
   "outputs": [],
   "source": [
    "final_df = pd.merge(joined, cast_dir,  how='inner', on='tconst')"
   ]
  },
  {
   "cell_type": "code",
   "execution_count": 73,
   "metadata": {},
   "outputs": [
    {
     "data": {
      "text/html": [
       "<div>\n",
       "<style scoped>\n",
       "    .dataframe tbody tr th:only-of-type {\n",
       "        vertical-align: middle;\n",
       "    }\n",
       "\n",
       "    .dataframe tbody tr th {\n",
       "        vertical-align: top;\n",
       "    }\n",
       "\n",
       "    .dataframe thead th {\n",
       "        text-align: right;\n",
       "    }\n",
       "</style>\n",
       "<table border=\"1\" class=\"dataframe\">\n",
       "  <thead>\n",
       "    <tr style=\"text-align: right;\">\n",
       "      <th></th>\n",
       "      <th>Cust_Id</th>\n",
       "      <th>Rating</th>\n",
       "      <th>Date</th>\n",
       "      <th>Movie_Id</th>\n",
       "      <th>Year</th>\n",
       "      <th>Title</th>\n",
       "      <th>tconst</th>\n",
       "      <th>titleType</th>\n",
       "      <th>isAdult</th>\n",
       "      <th>runtimeMinutes</th>\n",
       "      <th>genres</th>\n",
       "      <th>actor</th>\n",
       "      <th>actress</th>\n",
       "      <th>director</th>\n",
       "    </tr>\n",
       "  </thead>\n",
       "  <tbody>\n",
       "    <tr>\n",
       "      <th>0</th>\n",
       "      <td>2632461</td>\n",
       "      <td>3.0</td>\n",
       "      <td>2005-07-22</td>\n",
       "      <td>3</td>\n",
       "      <td>1997.0</td>\n",
       "      <td>Character</td>\n",
       "      <td>tt0119448</td>\n",
       "      <td>movie</td>\n",
       "      <td>0.0</td>\n",
       "      <td>122</td>\n",
       "      <td>Crime,Drama,Mystery</td>\n",
       "      <td>Jan Decleir</td>\n",
       "      <td>Betty Schuurman</td>\n",
       "      <td>Mike van Diem</td>\n",
       "    </tr>\n",
       "    <tr>\n",
       "      <th>1</th>\n",
       "      <td>931626</td>\n",
       "      <td>2.0</td>\n",
       "      <td>2004-07-08</td>\n",
       "      <td>3</td>\n",
       "      <td>1997.0</td>\n",
       "      <td>Character</td>\n",
       "      <td>tt0119448</td>\n",
       "      <td>movie</td>\n",
       "      <td>0.0</td>\n",
       "      <td>122</td>\n",
       "      <td>Crime,Drama,Mystery</td>\n",
       "      <td>Jan Decleir</td>\n",
       "      <td>Betty Schuurman</td>\n",
       "      <td>Mike van Diem</td>\n",
       "    </tr>\n",
       "    <tr>\n",
       "      <th>2</th>\n",
       "      <td>1628475</td>\n",
       "      <td>4.0</td>\n",
       "      <td>2005-11-14</td>\n",
       "      <td>3</td>\n",
       "      <td>1997.0</td>\n",
       "      <td>Character</td>\n",
       "      <td>tt0119448</td>\n",
       "      <td>movie</td>\n",
       "      <td>0.0</td>\n",
       "      <td>122</td>\n",
       "      <td>Crime,Drama,Mystery</td>\n",
       "      <td>Jan Decleir</td>\n",
       "      <td>Betty Schuurman</td>\n",
       "      <td>Mike van Diem</td>\n",
       "    </tr>\n",
       "    <tr>\n",
       "      <th>3</th>\n",
       "      <td>2266857</td>\n",
       "      <td>3.0</td>\n",
       "      <td>2003-06-13</td>\n",
       "      <td>3</td>\n",
       "      <td>1997.0</td>\n",
       "      <td>Character</td>\n",
       "      <td>tt0119448</td>\n",
       "      <td>movie</td>\n",
       "      <td>0.0</td>\n",
       "      <td>122</td>\n",
       "      <td>Crime,Drama,Mystery</td>\n",
       "      <td>Jan Decleir</td>\n",
       "      <td>Betty Schuurman</td>\n",
       "      <td>Mike van Diem</td>\n",
       "    </tr>\n",
       "    <tr>\n",
       "      <th>4</th>\n",
       "      <td>402377</td>\n",
       "      <td>4.0</td>\n",
       "      <td>2005-04-10</td>\n",
       "      <td>3</td>\n",
       "      <td>1997.0</td>\n",
       "      <td>Character</td>\n",
       "      <td>tt0119448</td>\n",
       "      <td>movie</td>\n",
       "      <td>0.0</td>\n",
       "      <td>122</td>\n",
       "      <td>Crime,Drama,Mystery</td>\n",
       "      <td>Jan Decleir</td>\n",
       "      <td>Betty Schuurman</td>\n",
       "      <td>Mike van Diem</td>\n",
       "    </tr>\n",
       "  </tbody>\n",
       "</table>\n",
       "</div>"
      ],
      "text/plain": [
       "   Cust_Id  Rating        Date  Movie_Id    Year      Title     tconst  \\\n",
       "0  2632461     3.0  2005-07-22         3  1997.0  Character  tt0119448   \n",
       "1   931626     2.0  2004-07-08         3  1997.0  Character  tt0119448   \n",
       "2  1628475     4.0  2005-11-14         3  1997.0  Character  tt0119448   \n",
       "3  2266857     3.0  2003-06-13         3  1997.0  Character  tt0119448   \n",
       "4   402377     4.0  2005-04-10         3  1997.0  Character  tt0119448   \n",
       "\n",
       "  titleType  isAdult runtimeMinutes               genres        actor  \\\n",
       "0     movie      0.0            122  Crime,Drama,Mystery  Jan Decleir   \n",
       "1     movie      0.0            122  Crime,Drama,Mystery  Jan Decleir   \n",
       "2     movie      0.0            122  Crime,Drama,Mystery  Jan Decleir   \n",
       "3     movie      0.0            122  Crime,Drama,Mystery  Jan Decleir   \n",
       "4     movie      0.0            122  Crime,Drama,Mystery  Jan Decleir   \n",
       "\n",
       "           actress       director  \n",
       "0  Betty Schuurman  Mike van Diem  \n",
       "1  Betty Schuurman  Mike van Diem  \n",
       "2  Betty Schuurman  Mike van Diem  \n",
       "3  Betty Schuurman  Mike van Diem  \n",
       "4  Betty Schuurman  Mike van Diem  "
      ]
     },
     "execution_count": 73,
     "metadata": {},
     "output_type": "execute_result"
    }
   ],
   "source": [
    "final_df.head()"
   ]
  },
  {
   "cell_type": "code",
   "execution_count": 74,
   "metadata": {},
   "outputs": [
    {
     "data": {
      "text/plain": [
       "(990277, 14)"
      ]
     },
     "execution_count": 74,
     "metadata": {},
     "output_type": "execute_result"
    }
   ],
   "source": [
    "final_df.shape"
   ]
  },
  {
   "cell_type": "code",
   "execution_count": 75,
   "metadata": {},
   "outputs": [
    {
     "data": {
      "text/plain": [
       "Cust_Id                0\n",
       "Rating                 0\n",
       "Date                   0\n",
       "Movie_Id               0\n",
       "Year                   0\n",
       "Title                  0\n",
       "tconst                 0\n",
       "titleType              0\n",
       "isAdult                0\n",
       "runtimeMinutes         0\n",
       "genres                 0\n",
       "actor              14176\n",
       "actress           126882\n",
       "director           32830\n",
       "dtype: int64"
      ]
     },
     "execution_count": 75,
     "metadata": {},
     "output_type": "execute_result"
    }
   ],
   "source": [
    "final_df.isnull().sum()"
   ]
  },
  {
   "cell_type": "code",
   "execution_count": 76,
   "metadata": {},
   "outputs": [],
   "source": [
    "final_df.to_csv('final dataset.csv')"
   ]
  },
  {
   "cell_type": "code",
   "execution_count": null,
   "metadata": {},
   "outputs": [],
   "source": []
  },
  {
   "cell_type": "code",
   "execution_count": null,
   "metadata": {},
   "outputs": [],
   "source": []
  },
  {
   "cell_type": "code",
   "execution_count": null,
   "metadata": {},
   "outputs": [],
   "source": []
  },
  {
   "cell_type": "code",
   "execution_count": null,
   "metadata": {},
   "outputs": [],
   "source": [
    "# which kind of filtering to use? hmm......... \n",
    "# should do feature selection first?"
   ]
  }
 ],
 "metadata": {
  "kernelspec": {
   "display_name": "Python 3",
   "language": "python",
   "name": "python3"
  },
  "language_info": {
   "codemirror_mode": {
    "name": "ipython",
    "version": 3
   },
   "file_extension": ".py",
   "mimetype": "text/x-python",
   "name": "python",
   "nbconvert_exporter": "python",
   "pygments_lexer": "ipython3",
   "version": "3.6.5"
  }
 },
 "nbformat": 4,
 "nbformat_minor": 2
}
